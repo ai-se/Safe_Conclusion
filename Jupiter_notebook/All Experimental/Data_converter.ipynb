{
 "cells": [
  {
   "cell_type": "code",
   "execution_count": 58,
   "metadata": {},
   "outputs": [],
   "source": [
    "import pandas as pd\n",
    "import numpy as np\n",
    "from sklearn import preprocessing\n",
    "from sklearn.decomposition import PCA\n",
    "from sklearn.model_selection import train_test_split\n",
    "train_data_path = 'Data/NSL-KDD/KDDTrain.csv'\n",
    "test_data_path = 'Data/NSL-KDD/KDDTest.csv'\n",
    "target = 'defects'"
   ]
  },
  {
   "cell_type": "code",
   "execution_count": 59,
   "metadata": {},
   "outputs": [],
   "source": [
    "train_df = pd.read_csv(train_data_path)\n",
    "test_df = pd.read_csv(test_data_path)"
   ]
  },
  {
   "cell_type": "code",
   "execution_count": 60,
   "metadata": {},
   "outputs": [],
   "source": [
    "new_df = pd.concat([train_df,test_df])\n",
    "new_df.reset_index(inplace = True)\n",
    "new_df.drop(labels = ['index'], inplace = True, axis = 1)"
   ]
  },
  {
   "cell_type": "code",
   "execution_count": 61,
   "metadata": {},
   "outputs": [
    {
     "name": "stdout",
     "output_type": "stream",
     "text": [
      "(47736, 42)\n",
      "(47561, 42)\n"
     ]
    }
   ],
   "source": [
    "print(new_df.shape)\n",
    "new_df.drop_duplicates(subset = new_df.columns[0:len(new_df.columns)-1],inplace = True)\n",
    "print(new_df.shape)"
   ]
  },
  {
   "cell_type": "code",
   "execution_count": 62,
   "metadata": {},
   "outputs": [],
   "source": [
    "def create_data(df,target):\n",
    "    df_change = df[['protocol_type', 'service','flag']]\n",
    "    df = df.drop(labels = ['protocol_type', 'service','flag'], axis = 1)\n",
    "    df_change = pd.get_dummies(df_change, prefix=['protocol_type', 'service','flag'])\n",
    "    df = df.merge(df_change,left_index=True, right_index=True)\n",
    "    df.to_csv('Data/NSL-KDD/modified/all_kddcup10_dummied.csv', index = False)\n",
    "    return df\n",
    "df = create_data(new_df,'defects')"
   ]
  },
  {
   "cell_type": "code",
   "execution_count": null,
   "metadata": {},
   "outputs": [],
   "source": [
    "# create dummy variables(use only once to modify the dataset)\n",
    "def create_data_pca(df,target):\n",
    "    df_change = df[['protocol_type', 'service','flag']]\n",
    "    df = df.drop(labels = ['protocol_type', 'service','flag'], axis = 1)\n",
    "    df_change = pd.get_dummies(df_change, prefix=['protocol_type', 'service','flag'])\n",
    "    df = df.merge(df_change,left_index=True, right_index=True)\n",
    "    y = df[target].values\n",
    "    X = df.drop(labels = target, axis = 1)\n",
    "    pca = PCA(n_components=20)\n",
    "    X = pca.fit_transform(X)\n",
    "    df = pd.DataFrame(X)\n",
    "    df['defects'] = y\n",
    "    df.to_csv('Data/NSL-KDD/modified/Train/kddcup10_dummied.csv', index = False)\n",
    "    return df\n",
    "df = create_data_pca(df,'defects')"
   ]
  },
  {
   "cell_type": "code",
   "execution_count": null,
   "metadata": {},
   "outputs": [],
   "source": [
    "# create dummy variables(use only once to modify the dataset)\n",
    "def create_data_normalized(df,target):\n",
    "    df_change = df[['protocol_type', 'service','flag']]\n",
    "    df = df.drop(labels = ['protocol_type', 'service','flag'], axis = 1)\n",
    "    df_change = pd.get_dummies(df_change, prefix=['protocol_type', 'service','flag'])\n",
    "    df = df.merge(df_change,left_index=True, right_index=True)\n",
    "    columns = df.columns\n",
    "    y = df[target]\n",
    "    X = df.drop(labels = target, axis = 1)\n",
    "    min_max_scaler = preprocessing.StandardScaler()\n",
    "    np_scaled = min_max_scaler.fit_transform(X)\n",
    "    data = pd.DataFrame(np_scaled, columns = columns[:-1])\n",
    "    df = data.assign(defects = y.values.tolist())\n",
    "    df.to_csv('Data/NSL-KDD/modified/Train/kddcup10_dummied_normalized.csv', index = False)\n",
    "    return df\n",
    "df = create_data_normalized(df,'defects')"
   ]
  },
  {
   "cell_type": "code",
   "execution_count": 63,
   "metadata": {},
   "outputs": [],
   "source": [
    "y = df[target].values\n",
    "X = df.drop(labels = target, axis = 1)\n",
    "X_train, X_test, y_train, y_test = train_test_split(X, y, test_size=0.50, random_state=42)"
   ]
  },
  {
   "cell_type": "code",
   "execution_count": 64,
   "metadata": {},
   "outputs": [
    {
     "name": "stderr",
     "output_type": "stream",
     "text": [
      "/anaconda3/lib/python3.7/site-packages/ipykernel_launcher.py:1: SettingWithCopyWarning: \n",
      "A value is trying to be set on a copy of a slice from a DataFrame.\n",
      "Try using .loc[row_indexer,col_indexer] = value instead\n",
      "\n",
      "See the caveats in the documentation: http://pandas.pydata.org/pandas-docs/stable/indexing.html#indexing-view-versus-copy\n",
      "  \"\"\"Entry point for launching an IPython kernel.\n"
     ]
    }
   ],
   "source": [
    "X_train[target] = y_train"
   ]
  },
  {
   "cell_type": "code",
   "execution_count": 65,
   "metadata": {},
   "outputs": [],
   "source": [
    "X_train.to_csv('Data/NSL-KDD/modified/_train.csv')"
   ]
  },
  {
   "cell_type": "code",
   "execution_count": 66,
   "metadata": {},
   "outputs": [
    {
     "name": "stderr",
     "output_type": "stream",
     "text": [
      "/anaconda3/lib/python3.7/site-packages/ipykernel_launcher.py:1: SettingWithCopyWarning: \n",
      "A value is trying to be set on a copy of a slice from a DataFrame.\n",
      "Try using .loc[row_indexer,col_indexer] = value instead\n",
      "\n",
      "See the caveats in the documentation: http://pandas.pydata.org/pandas-docs/stable/indexing.html#indexing-view-versus-copy\n",
      "  \"\"\"Entry point for launching an IPython kernel.\n"
     ]
    }
   ],
   "source": [
    "X_test[target] = y_test"
   ]
  },
  {
   "cell_type": "code",
   "execution_count": 67,
   "metadata": {},
   "outputs": [],
   "source": [
    "X_test.to_csv('Data/NSL-KDD/modified/_test.csv')"
   ]
  },
  {
   "cell_type": "code",
   "execution_count": null,
   "metadata": {},
   "outputs": [],
   "source": []
  },
  {
   "cell_type": "code",
   "execution_count": null,
   "metadata": {},
   "outputs": [],
   "source": []
  }
 ],
 "metadata": {
  "kernelspec": {
   "display_name": "Python 3",
   "language": "python",
   "name": "python3"
  },
  "language_info": {
   "codemirror_mode": {
    "name": "ipython",
    "version": 3
   },
   "file_extension": ".py",
   "mimetype": "text/x-python",
   "name": "python",
   "nbconvert_exporter": "python",
   "pygments_lexer": "ipython3",
   "version": "3.7.1"
  }
 },
 "nbformat": 4,
 "nbformat_minor": 2
}
