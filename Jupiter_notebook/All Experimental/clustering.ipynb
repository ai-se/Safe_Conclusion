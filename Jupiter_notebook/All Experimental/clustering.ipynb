{
 "cells": [
  {
   "cell_type": "code",
   "execution_count": 9,
   "metadata": {},
   "outputs": [],
   "source": [
    "import hdbscan\n",
    "import pandas as pd\n",
    "import numpy as np\n",
    "import seaborn as sns\n",
    "import matplotlib.pyplot as plt\n",
    "from graphviz import Digraph\n",
    "from sklearn.metrics.pairwise import pairwise_distances\n",
    "import scipy.spatial.distance\n",
    "from sklearn.cluster import AgglomerativeClustering,FeatureAgglomeration,Birch\n",
    "from scipy.cluster.hierarchy import dendrogram\n",
    "import ete3\n",
    "import time\n",
    "from freediscovery.cluster import birch_hierarchy_wrapper\n",
    "from freediscovery.cluster import Birch as f_Birch\n",
    "%matplotlib inline"
   ]
  },
  {
   "cell_type": "code",
   "execution_count": 10,
   "metadata": {},
   "outputs": [],
   "source": [
    "dataset_df = pd.read_csv('data/ant.csv')\n",
    "dataset_df1 = pd.read_csv('data/ant.csv')\n",
    "#dataset_df = dataset_df[~dataset_df.uniq_Op.str.contains(\"\\?\")]\n",
    "dataset_df_y = dataset_df['defects'].values\n",
    "dataset_df = dataset_df.drop(labels = 'defects', axis = 1)\n",
    "dataset_df_x = dataset_df.values"
   ]
  },
  {
   "cell_type": "code",
   "execution_count": 11,
   "metadata": {},
   "outputs": [],
   "source": [
    "def plot_dendrogram(model, **kwargs):\n",
    "\n",
    "    # Children of hierarchical clustering\n",
    "    children = model.children_\n",
    "\n",
    "    # Distances between each pair of children\n",
    "    # Since we don't have this information, we can use a uniform one for plotting\n",
    "    distance = np.arange(children.shape[0])\n",
    "    print(distance)\n",
    "\n",
    "    # The number of observations contained in each cluster level\n",
    "    no_of_observations = np.arange(2, children.shape[0]+2)\n",
    "\n",
    "    # Create linkage matrix and then plot the dendrogram\n",
    "    linkage_matrix = np.column_stack([children, distance, no_of_observations]).astype(float)\n",
    "\n",
    "    # Plot the corresponding dendrogram\n",
    "    dendrogram(linkage_matrix, **kwargs)"
   ]
  },
  {
   "cell_type": "code",
   "execution_count": 12,
   "metadata": {},
   "outputs": [],
   "source": [
    "def build_Newick_tree(children,n_leaves,X,leaf_labels,spanner):\n",
    "    \"\"\"\n",
    "    build_Newick_tree(children,n_leaves,X,leaf_labels,spanner)\n",
    "\n",
    "    Get a string representation (Newick tree) from the sklearn\n",
    "    AgglomerativeClustering.fit output.\n",
    "\n",
    "    Input:\n",
    "        children: AgglomerativeClustering.children_\n",
    "        n_leaves: AgglomerativeClustering.n_leaves_\n",
    "        X: parameters supplied to AgglomerativeClustering.fit\n",
    "        leaf_labels: The label of each parameter array in X\n",
    "        spanner: Callable that computes the dendrite's span\n",
    "\n",
    "    Output:\n",
    "        ntree: A str with the Newick tree representation\n",
    "\n",
    "    \"\"\"\n",
    "    return go_down_tree(children,n_leaves,X,leaf_labels,len(children)+n_leaves-1,spanner)[0]+';'\n",
    "\n",
    "def go_down_tree(children,n_leaves,X,leaf_labels,nodename,spanner):\n",
    "    \"\"\"\n",
    "    go_down_tree(children,n_leaves,X,leaf_labels,nodename,spanner)\n",
    "\n",
    "    Iterative function that traverses the subtree that descends from\n",
    "    nodename and returns the Newick representation of the subtree.\n",
    "\n",
    "    Input:\n",
    "        children: AgglomerativeClustering.children_\n",
    "        n_leaves: AgglomerativeClustering.n_leaves_\n",
    "        X: parameters supplied to AgglomerativeClustering.fit\n",
    "        leaf_labels: The label of each parameter array in X\n",
    "        nodename: An int that is the intermediate node name whos\n",
    "            children are located in children[nodename-n_leaves].\n",
    "        spanner: Callable that computes the dendrite's span\n",
    "\n",
    "    Output:\n",
    "        ntree: A str with the Newick tree representation\n",
    "\n",
    "    \"\"\"\n",
    "    nodeindex = nodename-n_leaves\n",
    "    if nodename<n_leaves:\n",
    "        return leaf_labels[nodeindex],np.array([X[nodeindex]])\n",
    "    else:\n",
    "        node_children = children[nodeindex]\n",
    "        branch0,branch0samples = go_down_tree(children,n_leaves,X,leaf_labels,node_children[0],spanner)\n",
    "        branch1,branch1samples = go_down_tree(children,n_leaves,X,leaf_labels,node_children[1],spanner)\n",
    "        node = np.vstack((branch0samples,branch1samples))\n",
    "        branch0span = spanner(branch0samples)\n",
    "        branch1span = spanner(branch1samples)\n",
    "        nodespan = spanner(node)\n",
    "        branch0distance = nodespan-branch0span\n",
    "        branch1distance = nodespan-branch1span\n",
    "        nodename = '({branch0}:{branch0distance},{branch1}:{branch1distance})'.format(branch0=branch0,branch0distance=branch0distance,branch1=branch1,branch1distance=branch1distance)\n",
    "        return nodename,node\n",
    "\n",
    "def get_cluster_spanner(aggClusterer):\n",
    "    \"\"\"\n",
    "    spanner = get_cluster_spanner(aggClusterer)\n",
    "\n",
    "    Input:\n",
    "        aggClusterer: sklearn.cluster.AgglomerativeClustering instance\n",
    "\n",
    "    Get a callable that computes a given cluster's span. To compute\n",
    "    a cluster's span, call spanner(cluster)\n",
    "\n",
    "    The cluster must be a 2D numpy array, where the axis=0 holds\n",
    "    separate cluster members and the axis=1 holds the different\n",
    "    variables.\n",
    "\n",
    "    \"\"\"\n",
    "    if aggClusterer.linkage=='ward':\n",
    "        if aggClusterer.affinity=='euclidean':\n",
    "            spanner = lambda x:np.sum((x-aggClusterer.pooling_func(x,axis=0))**2)\n",
    "    elif aggClusterer.linkage=='complete':\n",
    "        if aggClusterer.affinity=='euclidean':\n",
    "            spanner = lambda x:np.max(np.sum((x[:,None,:]-x[None,:,:])**2,axis=2))\n",
    "        elif aggClusterer.affinity=='l1' or aggClusterer.affinity=='manhattan':\n",
    "            spanner = lambda x:np.max(np.sum(np.abs(x[:,None,:]-x[None,:,:]),axis=2))\n",
    "        elif aggClusterer.affinity=='l2':\n",
    "            spanner = lambda x:np.max(np.sqrt(np.sum((x[:,None,:]-x[None,:,:])**2,axis=2)))\n",
    "        elif aggClusterer.affinity=='cosine':\n",
    "            spanner = lambda x:np.max(np.sum((x[:,None,:]*x[None,:,:]))/(np.sqrt(np.sum(x[:,None,:]*x[:,None,:],axis=2,keepdims=True))*np.sqrt(np.sum(x[None,:,:]*x[None,:,:],axis=2,keepdims=True))))\n",
    "        else:\n",
    "            raise AttributeError('Unknown affinity attribute value {0}.'.format(aggClusterer.affinity))\n",
    "    elif aggClusterer.linkage=='average':\n",
    "        if aggClusterer.affinity=='euclidean':\n",
    "            spanner = lambda x:np.mean(np.sum((x[:,None,:]-x[None,:,:])**2,axis=2))\n",
    "        elif aggClusterer.affinity=='l1' or aggClusterer.affinity=='manhattan':\n",
    "            spanner = lambda x:np.mean(np.sum(np.abs(x[:,None,:]-x[None,:,:]),axis=2))\n",
    "        elif aggClusterer.affinity=='l2':\n",
    "            spanner = lambda x:np.mean(np.sqrt(np.sum((x[:,None,:]-x[None,:,:])**2,axis=2)))\n",
    "        elif aggClusterer.affinity=='cosine':\n",
    "            spanner = lambda x:np.mean(np.sum((x[:,None,:]*x[None,:,:]))/(np.sqrt(np.sum(x[:,None,:]*x[:,None,:],axis=2,keepdims=True))*np.sqrt(np.sum(x[None,:,:]*x[None,:,:],axis=2,keepdims=True))))\n",
    "        else:\n",
    "            raise AttributeError('Unknown affinity attribute value {0}.'.format(aggClusterer.affinity))\n",
    "    else:\n",
    "        raise AttributeError('Unknown linkage attribute value {0}.'.format(aggClusterer.linkage))\n",
    "    return spanner"
   ]
  },
  {
   "cell_type": "code",
   "execution_count": 13,
   "metadata": {},
   "outputs": [
    {
     "data": {
      "text/plain": [
       "HDBSCAN(algorithm='best', allow_single_cluster=False, alpha=1.0,\n",
       "    approx_min_span_tree=True, cluster_selection_method='eom',\n",
       "    core_dist_n_jobs=4, gen_min_span_tree=False, leaf_size=40,\n",
       "    match_reference_implementation=False, memory=Memory(location=None),\n",
       "    metric='euclidean', min_cluster_size=100, min_samples=None, p=None,\n",
       "    prediction_data=False)"
      ]
     },
     "execution_count": 13,
     "metadata": {},
     "output_type": "execute_result"
    }
   ],
   "source": [
    "# HDBSCAN\n",
    "hdbscan_clusterer = hdbscan.HDBSCAN(min_cluster_size = 100)\n",
    "hdbscan_clusterer.fit(dataset_df)"
   ]
  },
  {
   "cell_type": "code",
   "execution_count": 14,
   "metadata": {},
   "outputs": [
    {
     "data": {
      "text/plain": [
       "FeatureAgglomeration(affinity='euclidean', compute_full_tree='auto',\n",
       "           connectivity=None, linkage='ward', memory=None, n_clusters=10,\n",
       "           pooling_func=<function mean at 0x11840cbf8>)"
      ]
     },
     "execution_count": 14,
     "metadata": {},
     "output_type": "execute_result"
    }
   ],
   "source": [
    "#FeatureAgglomeration\n",
    "FeatureAgglomeration_clusterer = FeatureAgglomeration(n_clusters = 10,affinity = 'euclidean',linkage = 'ward')\n",
    "FeatureAgglomeration_clusterer.fit(dataset_df)"
   ]
  },
  {
   "cell_type": "code",
   "execution_count": 17,
   "metadata": {},
   "outputs": [
    {
     "data": {
      "text/plain": [
       "Birch(branching_factor=20, compute_labels=True, copy=True, n_clusters=None,\n",
       "   threshold=0.5)"
      ]
     },
     "execution_count": 17,
     "metadata": {},
     "output_type": "execute_result"
    }
   ],
   "source": [
    "#Birch\n",
    "Birch_clusterer = Birch(threshold=0.5, branching_factor=20,n_clusters=None)\n",
    "Birch_clusterer.fit(dataset_df)\n",
    "#htree, n_clusters = birch_hierarchy_wrapper(Birch_clusterer)"
   ]
  },
  {
   "cell_type": "code",
   "execution_count": 11,
   "metadata": {},
   "outputs": [
    {
     "data": {
      "text/plain": [
       "<matplotlib.axes._subplots.AxesSubplot at 0x1a1d69f710>"
      ]
     },
     "execution_count": 11,
     "metadata": {},
     "output_type": "execute_result"
    },
    {
     "data": {
      "image/png": "[encoded data removed]",
      "text/plain": [
       "<Figure size 432x288 with 2 Axes>"
      ]
     },
     "metadata": {
      "needs_background": "light"
     },
     "output_type": "display_data"
    }
   ],
   "source": [
    "#hdbscan_clusterer.condensed_tree_.plot()\n",
    "hdbscan_clusterer.condensed_tree_.plot(select_clusters=True,\n",
    "                               selection_palette=sns.color_palette('deep', 8))"
   ]
  },
  {
   "cell_type": "code",
   "execution_count": 18,
   "metadata": {},
   "outputs": [
    {
     "name": "stdout",
     "output_type": "stream",
     "text": [
      "[ 0  1  2  3  4  5  6  7  8  9 10 11 12 13 14 15 16 17 18 19]\n"
     ]
    },
    {
     "data": {
      "image/png": "[encoded data removed]",
      "text/plain": [
       "<Figure size 432x288 with 1 Axes>"
      ]
     },
     "metadata": {
      "needs_background": "light"
     },
     "output_type": "display_data"
    }
   ],
   "source": [
    "#Complete Linkage\n",
    "plt.title('Hierarchical Clustering Dendrogram')\n",
    "plot_dendrogram(FeatureAgglomeration_clusterer, labels=FeatureAgglomeration_clusterer.labels_)\n",
    "plt.show()"
   ]
  },
  {
   "cell_type": "code",
   "execution_count": 62,
   "metadata": {},
   "outputs": [
    {
     "name": "stdout",
     "output_type": "stream",
     "text": [
      "[ 0  1  2  3  4  5  6  7  8  9 10 11 12 13 14 15 16 17 18 19]\n"
     ]
    },
    {
     "data": {
      "image/png": "[encoded data removed]",
      "text/plain": [
       "<Figure size 432x288 with 1 Axes>"
      ]
     },
     "metadata": {
      "needs_background": "light"
     },
     "output_type": "display_data"
    }
   ],
   "source": [
    "#Ward Linkage\n",
    "plt.title('Hierarchical Clustering Dendrogram')\n",
    "plot_dendrogram(FeatureAgglomeration_clusterer, labels=FeatureAgglomeration_clusterer.labels_)\n",
    "plt.show()"
   ]
  },
  {
   "cell_type": "code",
   "execution_count": 31,
   "metadata": {},
   "outputs": [
    {
     "name": "stdout",
     "output_type": "stream",
     "text": [
      "[ 0  1  2  3  4  5  6  7  8  9 10 11 12 13 14 15 16 17 18 19]\n"
     ]
    },
    {
     "data": {
      "image/png": "[encoded data removed]",
      "text/plain": [
       "<Figure size 432x288 with 1 Axes>"
      ]
     },
     "metadata": {
      "needs_background": "light"
     },
     "output_type": "display_data"
    }
   ],
   "source": [
    "#single Linkage\n",
    "plt.title('Hierarchical Clustering Dendrogram')\n",
    "plot_dendrogram(FeatureAgglomeration_clusterer, labels=FeatureAgglomeration_clusterer.labels_)\n",
    "plt.show()"
   ]
  },
  {
   "cell_type": "code",
   "execution_count": 33,
   "metadata": {},
   "outputs": [
    {
     "name": "stdout",
     "output_type": "stream",
     "text": [
      "[cluster_id=0] N_children: 13 N_samples: 125\n",
      "> [cluster_id=1] N_children: 0 N_samples: 1\n",
      "> [cluster_id=2] N_children: 0 N_samples: 15\n",
      "> [cluster_id=3] N_children: 0 N_samples: 15\n",
      "> [cluster_id=4] N_children: 0 N_samples: 20\n",
      "> [cluster_id=5] N_children: 0 N_samples: 8\n",
      "> [cluster_id=6] N_children: 0 N_samples: 9\n",
      "> [cluster_id=7] N_children: 0 N_samples: 2\n",
      "> [cluster_id=8] N_children: 0 N_samples: 19\n",
      "> [cluster_id=9] N_children: 0 N_samples: 4\n",
      "> [cluster_id=10] N_children: 0 N_samples: 14\n",
      "> [cluster_id=11] N_children: 0 N_samples: 9\n",
      "> [cluster_id=12] N_children: 0 N_samples: 2\n",
      "> [cluster_id=13] N_children: 0 N_samples: 7\n",
      "Total number of subclusters: 14\n"
     ]
    }
   ],
   "source": [
    "#Birch\n",
    "htree.display_tree()\n",
    "print('Total number of subclusters:', htree.tree_size)"
   ]
  },
  {
   "cell_type": "code",
   "execution_count": null,
   "metadata": {},
   "outputs": [],
   "source": [
    "spanner = get_cluster_spanner(FeatureAgglomeration_clusterer)\n",
    "leaf_labels = FeatureAgglomeration_clusterer.labels_\n",
    "newick_tree = build_Newick_tree(FeatureAgglomeration_clusterer.children_,FeatureAgglomeration_clusterer.n_leaves_,dataset_df,leaf_labels,spanner) # leaf_labels is a list of labels for each entry in X\n",
    "tree = ete3.Tree(newick_tree)\n",
    "tree.show()"
   ]
  },
  {
   "cell_type": "code",
   "execution_count": 10,
   "metadata": {},
   "outputs": [
    {
     "data": {
      "text/plain": [
       "array([0, 1, 2])"
      ]
     },
     "execution_count": 10,
     "metadata": {},
     "output_type": "execute_result"
    }
   ],
   "source": [
    "np.unique(Birch_clusterer.labels_)"
   ]
  },
  {
   "cell_type": "code",
   "execution_count": 5,
   "metadata": {},
   "outputs": [
    {
     "name": "stdout",
     "output_type": "stream",
     "text": [
      "\n",
      "<BirchSubcluster 1a26f0f728: \"{'document_id': [42, 53, 88, 96, 98, 99, 111], 'cluster_id': 13, 'document_id_accumulated': [42, 53, 88, 96, 98, 99, 111], 'cluster_size': 7}\">\n",
      "  * parent: BirchSubcluster[subcluster_id=0]\n",
      "  * children: []\n",
      "\n"
     ]
    }
   ],
   "source": [
    "sc = htree.flatten()[13]\n",
    "print(sc)"
   ]
  },
  {
   "cell_type": "code",
   "execution_count": null,
   "metadata": {},
   "outputs": [],
   "source": [
    "class birch(object):\n",
    "\n",
    "    def __init__(self,threshold=0.5,branching_factor=20,n_clusters=None):\n",
    "        self.threshold = threshold\n",
    "        self.branching_factor = branching_factor\n",
    "        self.n_clusters = n_clusters\n",
    "        self.Birch_clusterer = Birch(threshold=self.threshold, branching_factor=self.branching_factor,\n",
    "                                     n_clusters=self.n_clusters,compute_sample_indices=True)\n",
    "    \n",
    "    def fit(self,data):\n",
    "        self.data = data\n",
    "        #self.data.drop(self.data.columns[len(self.data.columns)-1], axis=1, inplace=True)\n",
    "        self.Birch_clusterer.fit(self.data)\n",
    "\n",
    "    def get_cluster_labels(self):\n",
    "        self.htree, n_clusters = birch_hierarchy_wrapper(self.Birch_clusterer)\n",
    "        clusters = {}\n",
    "        for i in range(n_clusters):\n",
    "            sub_cluster = self.htree.flatten()[i]\n",
    "            depth = sub_cluster.current_depth)\n",
    "            if depth not in clusters.keys():\n",
    "            if i not in clusters.keys():\n",
    "                clusters[i] = {}\n",
    "            if sub_cluster.current_depth == 0:\n",
    "                clusters[i]['parent'] = None\n",
    "            else:\n",
    "                clusters[i]['parent'] = sub_cluster.parent['cluster_id']\n",
    "            clusters[i]['depth'] = sub_cluster.current_depth\n",
    "            clusters[i]['size'] = sub_cluster['cluster_size']\n",
    "            clusters[i]['data_points'] = sub_cluster['document_id_accumulated']\n",
    "            clusters[i]['centroid'] = self.data.iloc[sub_cluster['document_id_accumulated'], :].mean(axis=0).values\n",
    "        return clusters\n",
    "    \n",
    "    def show_clutser_tree(self):\n",
    "        self.htree.display_tree()\n",
    "        \n",
    "    def predict(self,data):\n",
    "        return self.Birch_clusterer.predict(data)"
   ]
  },
  {
   "cell_type": "code",
   "execution_count": 8,
   "metadata": {},
   "outputs": [
    {
     "name": "stdout",
     "output_type": "stream",
     "text": [
      "[1.65714286e+01 2.42857143e+00 1.42857143e-01 1.35714286e+01\n",
      " 5.60000000e+01 6.80000000e+01 6.00000000e+00 8.00000000e+00\n",
      " 1.27142857e+01 7.32639616e-01 4.39428571e+02 9.16666667e-01\n",
      " 1.00000000e+00 4.72793084e-01 3.13780121e-01 7.14285714e-01\n",
      " 1.00000000e+00 2.65722140e+01 4.57142857e+00 1.31052857e+00]\n",
      "[1.65714286e+01 2.42857143e+00 1.42857143e-01 1.35714286e+01\n",
      " 5.60000000e+01 6.80000000e+01 6.00000000e+00 8.00000000e+00\n",
      " 1.27142857e+01 7.32639616e-01 4.39428571e+02 9.16666667e-01\n",
      " 1.00000000e+00 4.72793084e-01 3.13780121e-01 7.14285714e-01\n",
      " 1.00000000e+00 2.65722140e+01 4.57142857e+00 1.31052857e+00]\n",
      "[1.65714286e+01 2.42857143e+00 1.42857143e-01 1.35714286e+01\n",
      " 5.60000000e+01 6.80000000e+01 6.00000000e+00 8.00000000e+00\n",
      " 1.27142857e+01 7.32639616e-01 4.39428571e+02 9.16666667e-01\n",
      " 1.00000000e+00 4.72793084e-01 3.13780121e-01 7.14285714e-01\n",
      " 1.00000000e+00 2.65722140e+01 4.57142857e+00 1.31052857e+00]\n",
      "[1.65714286e+01 2.42857143e+00 1.42857143e-01 1.35714286e+01\n",
      " 5.60000000e+01 6.80000000e+01 6.00000000e+00 8.00000000e+00\n",
      " 1.27142857e+01 7.32639616e-01 4.39428571e+02 9.16666667e-01\n",
      " 1.00000000e+00 4.72793084e-01 3.13780121e-01 7.14285714e-01\n",
      " 1.00000000e+00 2.65722140e+01 4.57142857e+00 1.31052857e+00]\n",
      "[1.65714286e+01 2.42857143e+00 1.42857143e-01 1.35714286e+01\n",
      " 5.60000000e+01 6.80000000e+01 6.00000000e+00 8.00000000e+00\n",
      " 1.27142857e+01 7.32639616e-01 4.39428571e+02 9.16666667e-01\n",
      " 1.00000000e+00 4.72793084e-01 3.13780121e-01 7.14285714e-01\n",
      " 1.00000000e+00 2.65722140e+01 4.57142857e+00 1.31052857e+00]\n",
      "[1.65714286e+01 2.42857143e+00 1.42857143e-01 1.35714286e+01\n",
      " 5.60000000e+01 6.80000000e+01 6.00000000e+00 8.00000000e+00\n",
      " 1.27142857e+01 7.32639616e-01 4.39428571e+02 9.16666667e-01\n",
      " 1.00000000e+00 4.72793084e-01 3.13780121e-01 7.14285714e-01\n",
      " 1.00000000e+00 2.65722140e+01 4.57142857e+00 1.31052857e+00]\n",
      "[1.65714286e+01 2.42857143e+00 1.42857143e-01 1.35714286e+01\n",
      " 5.60000000e+01 6.80000000e+01 6.00000000e+00 8.00000000e+00\n",
      " 1.27142857e+01 7.32639616e-01 4.39428571e+02 9.16666667e-01\n",
      " 1.00000000e+00 4.72793084e-01 3.13780121e-01 7.14285714e-01\n",
      " 1.00000000e+00 2.65722140e+01 4.57142857e+00 1.31052857e+00]\n",
      "[1.65714286e+01 2.42857143e+00 1.42857143e-01 1.35714286e+01\n",
      " 5.60000000e+01 6.80000000e+01 6.00000000e+00 8.00000000e+00\n",
      " 1.27142857e+01 7.32639616e-01 4.39428571e+02 9.16666667e-01\n",
      " 1.00000000e+00 4.72793084e-01 3.13780121e-01 7.14285714e-01\n",
      " 1.00000000e+00 2.65722140e+01 4.57142857e+00 1.31052857e+00]\n",
      "[1.65714286e+01 2.42857143e+00 1.42857143e-01 1.35714286e+01\n",
      " 5.60000000e+01 6.80000000e+01 6.00000000e+00 8.00000000e+00\n",
      " 1.27142857e+01 7.32639616e-01 4.39428571e+02 9.16666667e-01\n",
      " 1.00000000e+00 4.72793084e-01 3.13780121e-01 7.14285714e-01\n",
      " 1.00000000e+00 2.65722140e+01 4.57142857e+00 1.31052857e+00]\n",
      "[1.65714286e+01 2.42857143e+00 1.42857143e-01 1.35714286e+01\n",
      " 5.60000000e+01 6.80000000e+01 6.00000000e+00 8.00000000e+00\n",
      " 1.27142857e+01 7.32639616e-01 4.39428571e+02 9.16666667e-01\n",
      " 1.00000000e+00 4.72793084e-01 3.13780121e-01 7.14285714e-01\n",
      " 1.00000000e+00 2.65722140e+01 4.57142857e+00 1.31052857e+00]\n",
      "[1.65714286e+01 2.42857143e+00 1.42857143e-01 1.35714286e+01\n",
      " 5.60000000e+01 6.80000000e+01 6.00000000e+00 8.00000000e+00\n",
      " 1.27142857e+01 7.32639616e-01 4.39428571e+02 9.16666667e-01\n",
      " 1.00000000e+00 4.72793084e-01 3.13780121e-01 7.14285714e-01\n",
      " 1.00000000e+00 2.65722140e+01 4.57142857e+00 1.31052857e+00]\n",
      "[1.65714286e+01 2.42857143e+00 1.42857143e-01 1.35714286e+01\n",
      " 5.60000000e+01 6.80000000e+01 6.00000000e+00 8.00000000e+00\n",
      " 1.27142857e+01 7.32639616e-01 4.39428571e+02 9.16666667e-01\n",
      " 1.00000000e+00 4.72793084e-01 3.13780121e-01 7.14285714e-01\n",
      " 1.00000000e+00 2.65722140e+01 4.57142857e+00 1.31052857e+00]\n",
      "[1.65714286e+01 2.42857143e+00 1.42857143e-01 1.35714286e+01\n",
      " 5.60000000e+01 6.80000000e+01 6.00000000e+00 8.00000000e+00\n",
      " 1.27142857e+01 7.32639616e-01 4.39428571e+02 9.16666667e-01\n",
      " 1.00000000e+00 4.72793084e-01 3.13780121e-01 7.14285714e-01\n",
      " 1.00000000e+00 2.65722140e+01 4.57142857e+00 1.31052857e+00]\n",
      "[1.65714286e+01 2.42857143e+00 1.42857143e-01 1.35714286e+01\n",
      " 5.60000000e+01 6.80000000e+01 6.00000000e+00 8.00000000e+00\n",
      " 1.27142857e+01 7.32639616e-01 4.39428571e+02 9.16666667e-01\n",
      " 1.00000000e+00 4.72793084e-01 3.13780121e-01 7.14285714e-01\n",
      " 1.00000000e+00 2.65722140e+01 4.57142857e+00 1.31052857e+00]\n"
     ]
    }
   ],
   "source": [
    "clusters = {}\n",
    "for i in range(n_clusters):\n",
    "    sub_cluster = htree.flatten()[i]\n",
    "    print(dataset_df.iloc[sc['document_id_accumulated'], :].mean(axis=0).values)\n",
    "    if i not in clusters.keys():\n",
    "        clusters[i] = {}\n",
    "    if sub_cluster.current_depth == 0:\n",
    "        clusters[i]['parent'] = None\n",
    "    else:\n",
    "        clusters[i]['parent'] = sub_cluster.parent['cluster_id']\n",
    "    clusters[i]['size'] = sub_cluster['cluster_size']\n",
    "    clusters[i]['data_points'] = sub_cluster['document_id_accumulated']"
   ]
  },
  {
   "cell_type": "code",
   "execution_count": 61,
   "metadata": {},
   "outputs": [
    {
     "data": {
      "text/plain": [
       "{0: {'parent': None,\n",
       "  'size': 125,\n",
       "  'data_points': [57,\n",
       "   1,\n",
       "   3,\n",
       "   6,\n",
       "   34,\n",
       "   35,\n",
       "   38,\n",
       "   45,\n",
       "   62,\n",
       "   71,\n",
       "   91,\n",
       "   93,\n",
       "   102,\n",
       "   103,\n",
       "   114,\n",
       "   119,\n",
       "   8,\n",
       "   11,\n",
       "   20,\n",
       "   24,\n",
       "   28,\n",
       "   30,\n",
       "   39,\n",
       "   52,\n",
       "   65,\n",
       "   66,\n",
       "   82,\n",
       "   94,\n",
       "   97,\n",
       "   107,\n",
       "   108,\n",
       "   2,\n",
       "   17,\n",
       "   18,\n",
       "   19,\n",
       "   23,\n",
       "   25,\n",
       "   29,\n",
       "   31,\n",
       "   40,\n",
       "   49,\n",
       "   54,\n",
       "   59,\n",
       "   61,\n",
       "   67,\n",
       "   73,\n",
       "   84,\n",
       "   87,\n",
       "   106,\n",
       "   109,\n",
       "   110,\n",
       "   37,\n",
       "   47,\n",
       "   48,\n",
       "   64,\n",
       "   72,\n",
       "   81,\n",
       "   101,\n",
       "   104,\n",
       "   14,\n",
       "   44,\n",
       "   46,\n",
       "   50,\n",
       "   63,\n",
       "   68,\n",
       "   77,\n",
       "   118,\n",
       "   123,\n",
       "   78,\n",
       "   120,\n",
       "   4,\n",
       "   5,\n",
       "   10,\n",
       "   27,\n",
       "   32,\n",
       "   33,\n",
       "   51,\n",
       "   58,\n",
       "   76,\n",
       "   79,\n",
       "   80,\n",
       "   92,\n",
       "   95,\n",
       "   112,\n",
       "   113,\n",
       "   115,\n",
       "   116,\n",
       "   117,\n",
       "   121,\n",
       "   22,\n",
       "   26,\n",
       "   36,\n",
       "   56,\n",
       "   7,\n",
       "   13,\n",
       "   16,\n",
       "   41,\n",
       "   43,\n",
       "   75,\n",
       "   83,\n",
       "   85,\n",
       "   86,\n",
       "   90,\n",
       "   100,\n",
       "   105,\n",
       "   122,\n",
       "   124,\n",
       "   0,\n",
       "   9,\n",
       "   12,\n",
       "   15,\n",
       "   21,\n",
       "   55,\n",
       "   69,\n",
       "   70,\n",
       "   74,\n",
       "   60,\n",
       "   89,\n",
       "   42,\n",
       "   53,\n",
       "   88,\n",
       "   96,\n",
       "   98,\n",
       "   99,\n",
       "   111]},\n",
       " 1: {'parent': 0, 'size': 1, 'data_points': [57]},\n",
       " 2: {'parent': 0,\n",
       "  'size': 15,\n",
       "  'data_points': [1,\n",
       "   3,\n",
       "   6,\n",
       "   34,\n",
       "   35,\n",
       "   38,\n",
       "   45,\n",
       "   62,\n",
       "   71,\n",
       "   91,\n",
       "   93,\n",
       "   102,\n",
       "   103,\n",
       "   114,\n",
       "   119]},\n",
       " 3: {'parent': 0,\n",
       "  'size': 15,\n",
       "  'data_points': [8,\n",
       "   11,\n",
       "   20,\n",
       "   24,\n",
       "   28,\n",
       "   30,\n",
       "   39,\n",
       "   52,\n",
       "   65,\n",
       "   66,\n",
       "   82,\n",
       "   94,\n",
       "   97,\n",
       "   107,\n",
       "   108]},\n",
       " 4: {'parent': 0,\n",
       "  'size': 20,\n",
       "  'data_points': [2,\n",
       "   17,\n",
       "   18,\n",
       "   19,\n",
       "   23,\n",
       "   25,\n",
       "   29,\n",
       "   31,\n",
       "   40,\n",
       "   49,\n",
       "   54,\n",
       "   59,\n",
       "   61,\n",
       "   67,\n",
       "   73,\n",
       "   84,\n",
       "   87,\n",
       "   106,\n",
       "   109,\n",
       "   110]},\n",
       " 5: {'parent': 0,\n",
       "  'size': 8,\n",
       "  'data_points': [37, 47, 48, 64, 72, 81, 101, 104]},\n",
       " 6: {'parent': 0,\n",
       "  'size': 9,\n",
       "  'data_points': [14, 44, 46, 50, 63, 68, 77, 118, 123]},\n",
       " 7: {'parent': 0, 'size': 2, 'data_points': [78, 120]},\n",
       " 8: {'parent': 0,\n",
       "  'size': 19,\n",
       "  'data_points': [4,\n",
       "   5,\n",
       "   10,\n",
       "   27,\n",
       "   32,\n",
       "   33,\n",
       "   51,\n",
       "   58,\n",
       "   76,\n",
       "   79,\n",
       "   80,\n",
       "   92,\n",
       "   95,\n",
       "   112,\n",
       "   113,\n",
       "   115,\n",
       "   116,\n",
       "   117,\n",
       "   121]},\n",
       " 9: {'parent': 0, 'size': 4, 'data_points': [22, 26, 36, 56]},\n",
       " 10: {'parent': 0,\n",
       "  'size': 14,\n",
       "  'data_points': [7, 13, 16, 41, 43, 75, 83, 85, 86, 90, 100, 105, 122, 124]},\n",
       " 11: {'parent': 0,\n",
       "  'size': 9,\n",
       "  'data_points': [0, 9, 12, 15, 21, 55, 69, 70, 74]},\n",
       " 12: {'parent': 0, 'size': 2, 'data_points': [60, 89]},\n",
       " 13: {'parent': 0, 'size': 7, 'data_points': [42, 53, 88, 96, 98, 99, 111]}}"
      ]
     },
     "execution_count": 61,
     "metadata": {},
     "output_type": "execute_result"
    }
   ],
   "source": [
    "clusters"
   ]
  },
  {
   "cell_type": "code",
   "execution_count": 68,
   "metadata": {},
   "outputs": [],
   "source": [
    "from sklearn.ensemble import ExtraTreesClassifier\n",
    "def tfs(df,n_estimators=50):\n",
    "    features = df.columns[:-1]\n",
    "    target = df.columns[-1]\n",
    "    X = df.drop(labels = [target], axis=1)\n",
    "    y = df[target]\n",
    "    clf = ExtraTreesClassifier(n_estimators=n_estimators)\n",
    "    clf.fit(X,y)\n",
    "    return clf.feature_importances_"
   ]
  },
  {
   "cell_type": "code",
   "execution_count": 69,
   "metadata": {},
   "outputs": [
    {
     "data": {
      "text/plain": [
       "array([0.06540965, 0.03469486, 0.01967495, 0.04719649, 0.09994755,\n",
       "       0.07417833, 0.052023  , 0.0690375 , 0.03202788, 0.05735506,\n",
       "       0.08596519, 0.02247546, 0.03162374, 0.045597  , 0.07518032,\n",
       "       0.03022025, 0.02782385, 0.05280186, 0.03656176, 0.04020529])"
      ]
     },
     "execution_count": 69,
     "metadata": {},
     "output_type": "execute_result"
    }
   ],
   "source": [
    "tfs(dataset_df1)"
   ]
  },
  {
   "cell_type": "code",
   "execution_count": 8,
   "metadata": {},
   "outputs": [
    {
     "data": {
      "text/plain": [
       "array([False,  True, False,  True, False, False,  True,  True, False,\n",
       "        True, False, False, False, False,  True, False, False, False,\n",
       "       False, False])"
      ]
     },
     "execution_count": 8,
     "metadata": {},
     "output_type": "execute_result"
    }
   ],
   "source": [
    "from sklearn.svm import LinearSVC\n",
    "from sklearn.datasets import load_iris\n",
    "from sklearn.feature_selection import SelectFromModel\n",
    "target = dataset_df1.columns[-1]\n",
    "X = dataset_df1.drop(labels = [target], axis=1)\n",
    "y = dataset_df1[target]\n",
    "lsvc = LinearSVC(C=0.01, penalty=\"l2\", dual=False).fit(X, y)\n",
    "model = SelectFromModel(lsvc, prefit=True)\n",
    "model.get_support(indices=False)"
   ]
  },
  {
   "cell_type": "code",
   "execution_count": 7,
   "metadata": {},
   "outputs": [
    {
     "data": {
      "text/plain": [
       "array([ True, False, False,  True,  True, False, False, False,  True,\n",
       "       False,  True, False, False, False, False, False, False,  True,\n",
       "       False, False])"
      ]
     },
     "execution_count": 7,
     "metadata": {},
     "output_type": "execute_result"
    }
   ],
   "source": [
    "model.get_support(indices=False)"
   ]
  },
  {
   "cell_type": "code",
   "execution_count": null,
   "metadata": {},
   "outputs": [],
   "source": []
  }
 ],
 "metadata": {
  "kernelspec": {
   "display_name": "Python 3",
   "language": "python",
   "name": "python3"
  },
  "language_info": {
   "codemirror_mode": {
    "name": "ipython",
    "version": 3
   },
   "file_extension": ".py",
   "mimetype": "text/x-python",
   "name": "python",
   "nbconvert_exporter": "python",
   "pygments_lexer": "ipython3",
   "version": "3.7.1"
  }
 },
 "nbformat": 4,
 "nbformat_minor": 2
}
