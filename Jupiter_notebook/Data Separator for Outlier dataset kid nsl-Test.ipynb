{
 "cells": [
  {
   "cell_type": "code",
   "execution_count": 14,
   "metadata": {},
   "outputs": [],
   "source": [
    "import pandas as pd\n",
    "import numpy as np\n",
    "from sklearn import preprocessing\n",
    "from sklearn.decomposition import PCA\n",
    "from sklearn.model_selection import train_test_split\n",
    "from sklearn.model_selection import StratifiedKFold\n",
    "data_path = 'Data/NSL-KDD/modified/_Test.csv'"
   ]
  },
  {
   "cell_type": "code",
   "execution_count": 9,
   "metadata": {},
   "outputs": [
    {
     "name": "stdout",
     "output_type": "stream",
     "text": [
      "(23781, 120)\n"
     ]
    }
   ],
   "source": [
    "df = pd.read_csv(data_path)\n",
    "print(df.shape)"
   ]
  },
  {
   "cell_type": "code",
   "execution_count": 10,
   "metadata": {},
   "outputs": [],
   "source": [
    "targets = df.defects.unique()"
   ]
  },
  {
   "cell_type": "code",
   "execution_count": 11,
   "metadata": {},
   "outputs": [],
   "source": [
    "# Get class wise dataset\n",
    "targets = df.defects.unique()\n",
    "for target in targets:\n",
    "    sub_data_path = 'Data/NSL-KDD/modified/Test/Saperate_Classes/kddcup10_' + target.split('.')[0] + '.csv'\n",
    "    sub_df = df[df['defects'] == target].reset_index(drop = True)\n",
    "    sub_df.to_csv(sub_data_path, index = False)"
   ]
  },
  {
   "cell_type": "code",
   "execution_count": null,
   "metadata": {},
   "outputs": [],
   "source": [
    "# Create Test Dataset without normal\n",
    "def two_class_train():\n",
    "    test_df = pd.DataFrame([])\n",
    "    for target in targets:\n",
    "        sub_data_path = 'Data/NSL-KDD/modified/Test/kddcup10_' + target.split('.')[0] + '.csv'\n",
    "        if target.split('.')[0] in ['normal','neptune','smurf' ,'guess_passwd','nmap','back','mscan']: #'neptune','smurf' ,'guess_passwd','nmap','back','mscan'\n",
    "            sub_df = df[df['defects'] == target].reset_index(drop = True)\n",
    "            test_df = pd.concat([test_df,sub_df], ignore_index=True)\n",
    "    test_df_path = 'Data/NSL-KDD/modified/Test/test.csv'\n",
    "    test_df.to_csv(test_df_path, index = False)\n",
    "    test_df.shape"
   ]
  },
  {
   "cell_type": "code",
   "execution_count": null,
   "metadata": {},
   "outputs": [],
   "source": [
    "# Create Test Dataset with normal\n",
    "def selected_train():\n",
    "    test_df = pd.DataFrame([])\n",
    "    for target in targets:\n",
    "        sub_data_path = 'Data/NSL-KDD/modified/Test/kddcup10_' + target.split('.')[0] + '.csv'\n",
    "        sub_df = df[df['defects'] == target].reset_index(drop = True)\n",
    "        test_df = pd.concat([test_df,sub_df], ignore_index=True)\n",
    "    test_df_path = 'Data/NSL-KDD/modified/Test/test.csv'\n",
    "    test_df.to_csv(test_df_path, index = False)\n",
    "    test_df.shape"
   ]
  },
  {
   "cell_type": "code",
   "execution_count": null,
   "metadata": {},
   "outputs": [],
   "source": [
    "# Create Test Dataset with normal\n",
    "def all_class_one_by_one():\n",
    "    test_df = pd.DataFrame([])\n",
    "    i = 0\n",
    "    for target in targets:\n",
    "        sub_data_path = 'Data/NSL-KDD/modified/Test/kddcup10_' + target.split('.')[0] + '.csv'\n",
    "        sub_df = df[df['defects'] == target].reset_index(drop = True)\n",
    "        test_df = pd.concat([test_df,sub_df], ignore_index=True)\n",
    "        test_df_path = 'Data/NSL-KDD/modified/Test/test_' + str(i) + '.csv'\n",
    "        i += 1\n",
    "        test_df.to_csv(test_df_path, index = False)\n",
    "        test_df.shape"
   ]
  },
  {
   "cell_type": "code",
   "execution_count": null,
   "metadata": {},
   "outputs": [],
   "source": [
    "df.groupby('defects').count()"
   ]
  },
  {
   "cell_type": "code",
   "execution_count": null,
   "metadata": {},
   "outputs": [],
   "source": [
    "a = ['mscan','worm','xlock','xsnoop','xterm'] #525+1+3+2+6\n",
    "b = []"
   ]
  },
  {
   "cell_type": "code",
   "execution_count": null,
   "metadata": {},
   "outputs": [],
   "source": [
    "_size = []\n",
    "for col in df.defects.unique().tolist():\n",
    "    _size.append([col,df[df['defects'] == col].shape[0]])"
   ]
  },
  {
   "cell_type": "code",
   "execution_count": null,
   "metadata": {},
   "outputs": [],
   "source": [
    "_size_df = pd.DataFrame(_size, columns = ['class','size'])"
   ]
  },
  {
   "cell_type": "code",
   "execution_count": null,
   "metadata": {},
   "outputs": [],
   "source": [
    "_size_df.to_csv('Data/NSL-KDD/modified/Results/class.csv')"
   ]
  },
  {
   "cell_type": "code",
   "execution_count": 31,
   "metadata": {},
   "outputs": [],
   "source": [
    "# Dividing Normal Class into 10 dataset\n",
    "def divide_ten():\n",
    "    class1_path = 'Data/NSL-KDD/modified/Test/Saperate_classes/kddcup10_normal.csv'\n",
    "    df_class1 = pd.read_csv(class1_path)\n",
    "    class2_path = 'Data/NSL-KDD/modified/Test/Saperate_classes/kddcup10_neptune.csv'\n",
    "    df_class2 = pd.read_csv(class2_path)\n",
    "    train_df = pd.concat([df_class1, df_class2], ignore_index=True)\n",
    "    y = train_df['defects']\n",
    "    X = train_df.drop(labels=['defects'],axis=1)\n",
    "    skf = StratifiedKFold(n_splits=10, random_state=42, shuffle=True)\n",
    "    i = 0\n",
    "    for train_index, test_index in skf.split(X,y):\n",
    "        sub_df = train_df.loc[test_index]\n",
    "        sub_df_path = 'Data/NSL-KDD/modified/Test/Normal_Data/train_' + str(i) + '.csv'\n",
    "        sub_df.to_csv(sub_df_path, index = False)\n",
    "        i += 1\n",
    "        print(sub_df.shape)"
   ]
  },
  {
   "cell_type": "code",
   "execution_count": 32,
   "metadata": {},
   "outputs": [
    {
     "name": "stdout",
     "output_type": "stream",
     "text": [
      "(1789, 120)\n",
      "(1788, 120)\n",
      "(1788, 120)\n",
      "(1788, 120)\n",
      "(1788, 120)\n",
      "(1788, 120)\n",
      "(1788, 120)\n",
      "(1787, 120)\n",
      "(1787, 120)\n",
      "(1787, 120)\n"
     ]
    }
   ],
   "source": [
    "divide_ten()"
   ]
  },
  {
   "cell_type": "code",
   "execution_count": 19,
   "metadata": {},
   "outputs": [],
   "source": [
    "# set of Anomaly Classes\n",
    "set1 = ['smurf',\n",
    "'ipsweep',\n",
    "'snmpguess',\n",
    "'ftp_write',\n",
    "'xsnoop',\n",
    "'phf',\n",
    "'spy',\n",
    "'worm',\n",
    "'perl']\n",
    "\n",
    "set2 = ['guess_passwd',\n",
    "'apache2',\n",
    "'saint']\n",
    "\n",
    "set3 = ['satan',\n",
    "'portsweep',\n",
    "'mailbomb']\n",
    "\n",
    "set4 = ['mscan',\n",
    "'processtable',\n",
    "'teardrop',\n",
    "'warezclient',\n",
    "'snmpgetattack']\n",
    "\n",
    "set5 = ['warezmaster',\n",
    "'back',\n",
    "'nmap',\n",
    "'httptunnel',\n",
    "'pod',\n",
    "'buffer_overflow',\n",
    "'rootkit',\n",
    "'ps',\n",
    "'multihop',\n",
    "'xterm',\n",
    "'named',\n",
    "'sendmail',\n",
    "'land',\n",
    "'xlock']"
   ]
  },
  {
   "cell_type": "code",
   "execution_count": 21,
   "metadata": {},
   "outputs": [],
   "source": [
    "# Create Test Dataset without normal\n",
    "def selected_train_anomaly(sets,name):\n",
    "    train_df = pd.DataFrame([])\n",
    "    for target in sets:\n",
    "        try:\n",
    "            sub_data_path = 'Data/NSL-KDD/modified/Test/Saperate_classes/kddcup10_' + target + '.csv'\n",
    "            sub_df = pd.read_csv(sub_data_path)\n",
    "            train_df = pd.concat([train_df,sub_df], ignore_index=True)\n",
    "        except:\n",
    "            continue\n",
    "    train_df_path = 'Data/NSL-KDD/modified/Test/5_amonaly/train_' + name + '.csv'\n",
    "    train_df.to_csv(train_df_path, index = False)\n",
    "    print(train_df.shape)"
   ]
  },
  {
   "cell_type": "code",
   "execution_count": 26,
   "metadata": {},
   "outputs": [
    {
     "name": "stdout",
     "output_type": "stream",
     "text": [
      "(1141, 120)\n"
     ]
    }
   ],
   "source": [
    "selected_train_anomaly(set5,'set5')"
   ]
  },
  {
   "cell_type": "code",
   "execution_count": 28,
   "metadata": {},
   "outputs": [
    {
     "name": "stdout",
     "output_type": "stream",
     "text": [
      "0\n",
      "1\n",
      "2\n",
      "3\n",
      "4\n"
     ]
    }
   ],
   "source": [
    "for i in range(5):\n",
    "    print(i)"
   ]
  },
  {
   "cell_type": "code",
   "execution_count": null,
   "metadata": {},
   "outputs": [],
   "source": []
  }
 ],
 "metadata": {
  "kernelspec": {
   "display_name": "Python 3",
   "language": "python",
   "name": "python3"
  },
  "language_info": {
   "codemirror_mode": {
    "name": "ipython",
    "version": 3
   },
   "file_extension": ".py",
   "mimetype": "text/x-python",
   "name": "python",
   "nbconvert_exporter": "python",
   "pygments_lexer": "ipython3",
   "version": "3.7.1"
  }
 },
 "nbformat": 4,
 "nbformat_minor": 2
}
