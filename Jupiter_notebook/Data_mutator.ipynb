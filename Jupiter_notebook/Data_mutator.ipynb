{
 "cells": [
  {
   "cell_type": "code",
   "execution_count": 13,
   "metadata": {},
   "outputs": [],
   "source": [
    "#Libraries\n",
    "import pandas as pd\n",
    "import numpy as np\n",
    "import random"
   ]
  },
  {
   "cell_type": "code",
   "execution_count": 14,
   "metadata": {},
   "outputs": [],
   "source": [
    "#Dataset Read\n",
    "dataset_df = pd.read_csv('data/jm1.csv')"
   ]
  },
  {
   "cell_type": "code",
   "execution_count": 29,
   "metadata": {},
   "outputs": [],
   "source": [
    "#Mutator Function:\n",
    "def seen(dataset,parent_candidate):\n",
    "    size = dataset.shape[0]\n",
    "    candidate_1 = dataset.loc[random.randint(0,size-1)]\n",
    "    while candidate_1.equals(parent_candidate):\n",
    "        candidate_1 = dataset.loc[random.randint(0,size-1)]\n",
    "    candidate_2 = dataset.loc[random.randint(0,size-1)]\n",
    "    while candidate_2.equals(parent_candidate) or candidate_1.equals(candidate_2):\n",
    "        candidate_2 = dataset.loc[random.randint(0,size-1)]\n",
    "    return parent_candidate,candidate_1,candidate_2\n",
    "    \n",
    "    \n",
    "def select_candiate(dataset):\n",
    "    size = dataset.shape[0]\n",
    "    parent_candidate = dataset.loc[random.randint(0,size-1)]\n",
    "    return seen(dataset,parent_candidate)\n",
    "\n",
    "def data_mutator(dataset, f,cr):\n",
    "    dataset_columns = dataset.columns.values\n",
    "    response_attribute = dataset_columns[len(dataset_columns)-1]\n",
    "    parent_candidate, child_candidate_1, child_candidate_2 = select_candiate(dataset)\n",
    "    print(parent_candidate, child_candidate_1, child_candidate_2)"
   ]
  },
  {
   "cell_type": "code",
   "execution_count": 30,
   "metadata": {},
   "outputs": [
    {
     "name": "stdout",
     "output_type": "stream",
     "text": [
      "loc                      17\n",
      "v(g)                      4\n",
      "ev(g)                     3\n",
      "iv(g)                     1\n",
      "n                        35\n",
      "v                       140\n",
      "l                      0.06\n",
      "d                      15.4\n",
      "i                      9.09\n",
      "e                      2156\n",
      "b                      0.05\n",
      "t                    119.78\n",
      "lOCode                   12\n",
      "lOComment                 0\n",
      "lOBlank                   2\n",
      "locCodeAndComment         0\n",
      "uniq_Op                  11\n",
      "uniq_Opnd                 5\n",
      "total_Op                 21\n",
      "total_Opnd               14\n",
      "branchCount               7\n",
      "defects               False\n",
      "Name: 4768, dtype: object loc                      16\n",
      "v(g)                      2\n",
      "ev(g)                     1\n",
      "iv(g)                     2\n",
      "n                        38\n",
      "v                    164.23\n",
      "l                      0.11\n",
      "d                         9\n",
      "i                     18.25\n",
      "e                    1478.1\n",
      "b                      0.05\n",
      "t                     82.12\n",
      "lOCode                   11\n",
      "lOComment                 0\n",
      "lOBlank                   2\n",
      "locCodeAndComment         0\n",
      "uniq_Op                  12\n",
      "uniq_Opnd                 8\n",
      "total_Op                 26\n",
      "total_Opnd               12\n",
      "branchCount               3\n",
      "defects               False\n",
      "Name: 10226, dtype: object loc                       5\n",
      "v(g)                      1\n",
      "ev(g)                     1\n",
      "iv(g)                     1\n",
      "n                        14\n",
      "v                     48.43\n",
      "l                      0.19\n",
      "d                      5.25\n",
      "i                      9.23\n",
      "e                    254.27\n",
      "b                      0.02\n",
      "t                     14.13\n",
      "lOCode                    3\n",
      "lOComment                 0\n",
      "lOBlank                   0\n",
      "locCodeAndComment         0\n",
      "uniq_Op                   7\n",
      "uniq_Opnd                 4\n",
      "total_Op                  8\n",
      "total_Opnd                6\n",
      "branchCount               1\n",
      "defects                True\n",
      "Name: 430, dtype: object\n"
     ]
    }
   ],
   "source": [
    "data_mutator(dataset_df,1,2)"
   ]
  },
  {
   "cell_type": "code",
   "execution_count": null,
   "metadata": {},
   "outputs": [],
   "source": []
  }
 ],
 "metadata": {
  "kernelspec": {
   "display_name": "Python 3",
   "language": "python",
   "name": "python3"
  },
  "language_info": {
   "codemirror_mode": {
    "name": "ipython",
    "version": 3
   },
   "file_extension": ".py",
   "mimetype": "text/x-python",
   "name": "python",
   "nbconvert_exporter": "python",
   "pygments_lexer": "ipython3",
   "version": "3.6.5"
  }
 },
 "nbformat": 4,
 "nbformat_minor": 2
}
