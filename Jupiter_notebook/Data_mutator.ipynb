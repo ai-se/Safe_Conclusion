{
 "cells": [
  {
   "cell_type": "code",
   "execution_count": 1,
   "metadata": {},
   "outputs": [],
   "source": [
    "#Libraries\n",
    "import pandas as pd\n",
    "import numpy as np\n",
    "import random\n",
    "from sklearn.metrics import pairwise\n",
    "import matplotlib.pyplot as plt\n",
    "from sklearn.linear_model import LogisticRegression\n",
    "from sklearn import metrics\n",
    "from sklearn.model_selection import train_test_split,StratifiedKFold\n",
    "from sklearn.naive_bayes import MultinomialNB,BernoulliNB,GaussianNB\n",
    "from sklearn import svm\n",
    "import copy\n",
    "import matplotlib.pyplot as plt"
   ]
  },
  {
   "cell_type": "code",
   "execution_count": 9,
   "metadata": {},
   "outputs": [],
   "source": [
    "#Dataset Read\n",
    "dataset_df = pd.read_csv('data/jm1.csv')\n",
    "dataset_df = dataset_df[~dataset_df.uniq_Op.str.contains(\"\\?\")]\n",
    "df_mu = copy.deepcopy(dataset_df)\n",
    "df_mu.reset_index(inplace = True,drop = True)"
   ]
  },
  {
   "cell_type": "code",
   "execution_count": 4,
   "metadata": {
    "scrolled": true
   },
   "outputs": [],
   "source": [
    "#Mutator Function:\n",
    "def seen(dataset,parent_candidate):\n",
    "    size = dataset.shape[0]\n",
    "    candidate_1 = dataset.loc[random.randint(0,size-1)]\n",
    "    while candidate_1.equals(parent_candidate):\n",
    "        candidate_1 = dataset.loc[random.randint(0,size-1)]\n",
    "    candidate_2 = dataset.loc[random.randint(0,size-1)]\n",
    "    while candidate_2.equals(parent_candidate) or candidate_1.equals(candidate_2):\n",
    "        candidate_2 = dataset.loc[random.randint(0,size-1)]\n",
    "    return parent_candidate,candidate_1,candidate_2\n",
    "    \n",
    "def select_candiate(dataset):\n",
    "    size = dataset.shape[0]\n",
    "    parent_candidate = dataset.loc[random.randint(0,size-1)]\n",
    "    return seen(dataset,parent_candidate)\n",
    "\n",
    "def data_mutator(dataset, f,cr,size):\n",
    "    dataset.reset_index(inplace = True,drop = True)\n",
    "    new_candidate = pd.DataFrame()\n",
    "    dataset_columns = dataset.columns.values\n",
    "    response_attribute = dataset_columns[len(dataset_columns)-1]\n",
    "    for i in range(size):\n",
    "        parent_candidate, child_candidate_1, child_candidate_2 = select_candiate(dataset)\n",
    "        for key,value in parent_candidate.items():\n",
    "            if key != response_attribute:\n",
    "                if isinstance(parent_candidate[key], bool):\n",
    "                    new_candidate.loc[i,key] = parent_candidate[key] if cr < random.random() else not parent_candidate[key]\n",
    "                elif isinstance(parent_candidate[key], str):\n",
    "                    new_candidate.loc[i,key] = random.choice([parent_candidate[key],child_candidate_1[key],child_candidate_2[key]])\n",
    "                elif isinstance(parent_candidate[key], list):\n",
    "                    temp_lst = []\n",
    "                    for i, each in enumerate(parent_candidate[key]):\n",
    "                          temp_lst.append(parent_candidate[key][i] if cr < random.random() else\n",
    "                                          int(parent_candidate[key][i] +\n",
    "                                              f * (child_candidate_1[key][i] - child_candidate_2[key][i])))\n",
    "                    new_candidate.loc[i,key] = temp_lst\n",
    "                else:\n",
    "                    new_candidate.loc[i,key] = parent_candidate[key] if cr < random.random() else (\n",
    "                      abs(parent_candidate[key] + f * (child_candidate_1[key] - child_candidate_2[key])))\n",
    "            else:\n",
    "                new_candidate.loc[i,key] = parent_candidate[key]\n",
    "    return new_candidate"
   ]
  },
  {
   "cell_type": "code",
   "execution_count": 5,
   "metadata": {},
   "outputs": [],
   "source": [
    "# Score generator\n",
    "class counter():\n",
    "    \n",
    "    def __init__(self, before, after, indx):\n",
    "        self.indx = indx\n",
    "        self.actual = before\n",
    "        self.predicted = after\n",
    "        self.TP, self.TN, self.FP, self.FN = 0, 0, 0, 0\n",
    "        for a, b in zip(self.actual, self.predicted):\n",
    "            if a == indx and b == indx:\n",
    "                self.TP += 1\n",
    "            elif a == b and a != indx:\n",
    "                self.TN += 1\n",
    "            elif a != indx and b == indx:\n",
    "                self.FP += 1\n",
    "            elif a == indx and b != indx:\n",
    "                self.FN += 1\n",
    "            elif a != indx and b != indx:\n",
    "                pass\n",
    "\n",
    "\n",
    "    def stats(self):\n",
    "        pd, pf, prec, F, G, acc = 0, 0, 0, 0, 0,0\n",
    "        if self.TP + self.FN:\n",
    "            pd = self.TP / (self.TP + self.FN)\n",
    "        if self.FP+self.TN:\n",
    "            pf = self.FP/(self.FP+self.TN)\n",
    "        if self.TP+self.FP:\n",
    "            prec = self.TP/(self.TP+self.FP)\n",
    "        if self.TP+self.FP+self.TN+self.TP:\n",
    "            acc = (self.TP +self.TN)/(self.TP+self.TN+self.FP+self.FN)\n",
    "        if pd+prec:\n",
    "            F = 2*pd*prec/(pd+prec)\n",
    "        if pd+(1-pf):\n",
    "            G = 2*pd*(1-pf)/(pd+1-pf)\n",
    "        return pd, pf,prec,acc,F,G\n",
    "\n",
    "\n",
    "\n",
    "class ABCD():\n",
    "    \"Statistics Stuff, confusion matrix, all that jazz...\"\n",
    "\n",
    "    def __init__(self, before, after):\n",
    "        self.actual = before\n",
    "        self.predicted = after\n",
    "\n",
    "    def __call__(self):\n",
    "        uniques = set(self.actual)\n",
    "        for u in list(uniques):\n",
    "            yield counter(self.actual, self.predicted, indx=u)\n",
    "\n",
    "# Calculating Macro goal\n",
    "def calculate_score_macro(confusion_matrix_all_class):\n",
    "    tp, fn, fp, tn = 0, 0, 0, 0\n",
    "    avg_precision,avg_recall = 0,0\n",
    "    precision,recall = [],[]\n",
    "    for each in confusion_matrix_all_class:\n",
    "        tp = each.TP\n",
    "        fn = each.FN\n",
    "        fp = each.FP\n",
    "        tn = each.FP\n",
    "        precision.append(float(tp)/float((tp+fp)))\n",
    "        recall.append(float(tp)/float((tp+fn)))\n",
    "    for i in range(len(precision)):\n",
    "        avg_precision += precision[i]\n",
    "        avg_recall += recall[i]\n",
    "    avg_precision = avg_precision/len(precision)\n",
    "    avg_recall = avg_recall/len(recall)\n",
    "    avg_f1 = 2*(avg_recall*avg_precision)/(avg_recall+avg_precision)\n",
    "    return avg_precision, avg_recall, avg_f1\n",
    "\n",
    "# Calculate Micro goal\n",
    "def calculate_score_micro(confusion_matrix_all_class):\n",
    "    tp, fn, fp, tn = 0, 0, 0, 0\n",
    "    avg_precision,avg_recall = 0,0\n",
    "    precision,recall = [],[]\n",
    "    for each in confusion_matrix_all_class:\n",
    "        tp += each.TP\n",
    "        fn += each.FN\n",
    "        fp += each.FP\n",
    "        tn += each.FP\n",
    "    precision = (float(tp)/float((tp+fp)))\n",
    "    recall = (float(tp)/float((tp+fn)))\n",
    "    f1 = 2*(recall*precision)/(recall+precision)\n",
    "    return precision, recall, f1\n",
    "\n",
    "# Calculate Weighted goal\n",
    "def calculate_score_weighted(confusion_matrix_all_class,mutated_test_y):\n",
    "    total_test_point = len(mutated_test_y)\n",
    "    uniques = list(set(mutated_test_y))\n",
    "    tp, fn, fp, tn = 0, 0, 0, 0\n",
    "    avg_precision,avg_recall = 0,0\n",
    "    precision,recall = [],[]\n",
    "    for each in confusion_matrix_all_class:\n",
    "        tp = each.TP\n",
    "        fn = each.FN\n",
    "        fp = each.FP\n",
    "        tn = each.FP\n",
    "        if(tp+fp > 0):\n",
    "            precision.append(float(tp)/float((tp+fp)))\n",
    "        if(tp+fn > 0):\n",
    "            recall.append(float(tp)/float((tp+fn)))\n",
    "    for i in range(len(uniques)):\n",
    "        avg_precision += precision[i]*(mutated_test_y.count(uniques[i]))\n",
    "        avg_recall += recall[i]*(mutated_test_y.count(uniques[i]))\n",
    "    avg_precision = avg_precision/total_test_point\n",
    "    avg_recall = avg_recall/total_test_point\n",
    "    avg_f1 = 2*(avg_recall*avg_precision)/(avg_recall+avg_precision)\n",
    "    return avg_precision, avg_recall, avg_f1"
   ]
  },
  {
   "cell_type": "code",
   "execution_count": null,
   "metadata": {},
   "outputs": [],
   "source": [
    "# Experimental Results Changing cross over probability only(mutating test set)\n",
    "repeats = 5\n",
    "fold = 5\n",
    "data_x = dataset_df.drop(['defects'], axis = 1, inplace = False)\n",
    "data_y = dataset_df.defects\n",
    "clf = MultinomialNB()\n",
    "cr = [0.4,0.5,0.6,0.7,0.8]\n",
    "precision_l, recall_l, f1_l = [],[],[]\n",
    "for i in range(repeats):  # repeat n times here\n",
    "    kf = StratifiedKFold(fold, shuffle=True)\n",
    "    avg_precision, avg_recall, avg_f1 = 0,0,0\n",
    "    print(\"Iteration:\", i, \"with cross over probability:\",cr[i])\n",
    "    for train_index, test_index in kf.split(data_x,data_y):\n",
    "        print(\"training on split\")\n",
    "        train_data_x = data_x.iloc[train_index]\n",
    "        train_data_y = data_y.iloc[train_index]\n",
    "        test_data_x = data_x.iloc[test_index]\n",
    "        test_data_y = data_y.iloc[test_index]\n",
    "        test = pd.concat([test_data_x,test_data_y],axis = 1) \n",
    "        modified_dataset = data_mutator(test,0.7,cr[i],test.shape[0]) #mutating test set\n",
    "        mutated_test_x = modified_dataset.drop(['defects'], axis = 1, inplace = False)\n",
    "        mutated_test_y = modified_dataset.defects.tolist()\n",
    "        clf.fit(train_data_x,train_data_y)\n",
    "        predicted = clf.predict(mutated_test_x)\n",
    "        abcd = ABCD(mutated_test_y, predicted)\n",
    "        confusion_matrix_all_class = [each for each in abcd()]\n",
    "        precision, recall, f1 = calculate_score_weighted(confusion_matrix_all_class,mutated_test_y)\n",
    "        avg_precision += precision\n",
    "        avg_recall += recall\n",
    "        avg_f1 += f1\n",
    "    avg_precision = avg_precision/repeats\n",
    "    avg_recall = avg_recall/repeats\n",
    "    avg_f1 = avg_f1/repeats\n",
    "    precision_l.append(avg_precision)\n",
    "    recall_l.append(avg_recall)\n",
    "    f1_l.append(avg_f1)\n",
    "\n",
    "# Drawing plot for F1 Score\n",
    "plt.plot(f1_l)"
   ]
  },
  {
   "cell_type": "code",
   "execution_count": null,
   "metadata": {},
   "outputs": [],
   "source": [
    "# Experimental Results Changing cross over probability only(mutating train set)\n",
    "repeats = 5\n",
    "fold = 5\n",
    "data_x = dataset_df.drop(['defects'], axis = 1, inplace = False)\n",
    "data_y = dataset_df.defects\n",
    "clf = MultinomialNB()\n",
    "cr = [0.4,0.5,0.6,0.7,0.8]\n",
    "precision_l, recall_l, f1_l = [],[],[]\n",
    "for i in range(repeats):  # repeat n times here\n",
    "    kf = StratifiedKFold(fold, shuffle=True)\n",
    "    avg_precision, avg_recall, avg_f1 = 0,0,0\n",
    "    print(\"Iteration:\", i, \"with cross over probability:\",cr[i])\n",
    "    for train_index, test_index in kf.split(data_x,data_y):\n",
    "        print(\"training on split\")\n",
    "        train_data_x = data_x.iloc[train_index]\n",
    "        train_data_y = data_y.iloc[train_index]\n",
    "        test_data_x = data_x.iloc[test_index]\n",
    "        test_data_y = data_y.iloc[test_index]\n",
    "        train = pd.concat([test_data_x,test_data_y],axis = 1) \n",
    "        modified_dataset = data_mutator(train,0.7,cr[i],train.shape[0]) #mutating train set\n",
    "        mutated_train_x = modified_dataset.drop(['defects'], axis = 1, inplace = False)\n",
    "        mutated_train_y = modified_dataset.defects.tolist()\n",
    "        clf.fit(mutated_train_x,mutated_train_y)\n",
    "        predicted = clf.predict(test_data_x)\n",
    "        abcd = ABCD(test_data_y, predicted)\n",
    "        confusion_matrix_all_class = [each for each in abcd()]\n",
    "        precision, recall, f1 = calculate_score_weighted(confusion_matrix_all_class,list(test_data_y.values))\n",
    "        avg_precision += precision\n",
    "        avg_recall += recall\n",
    "        avg_f1 += f1\n",
    "    avg_precision = avg_precision/repeats\n",
    "    avg_recall = avg_recall/repeats\n",
    "    avg_f1 = avg_f1/repeats\n",
    "    precision_l.append(avg_precision)\n",
    "    recall_l.append(avg_recall)\n",
    "    f1_l.append(avg_f1)\n",
    "        \n",
    "# Drawing plot for F1 Score\n",
    "plt.plot(f1_l)"
   ]
  },
  {
   "cell_type": "code",
   "execution_count": 16,
   "metadata": {},
   "outputs": [
    {
     "name": "stdout",
     "output_type": "stream",
     "text": [
      "testing with crossover frequency: 0.0\n",
      "testing with crossover frequency: 0.2\n",
      "testing with crossover frequency: 0.4\n",
      "testing with crossover frequency: 0.6\n",
      "testing with crossover frequency: 0.8\n",
      "testing with crossover frequency: 1.0\n",
      "testing with crossover frequency: 1.2\n",
      "testing with crossover frequency: 1.4\n",
      "testing with crossover frequency: 1.6\n",
      "testing with crossover frequency: 1.8\n",
      "testing with crossover frequency: 2.0\n",
      "testing with crossover frequency: 2.2\n",
      "testing with crossover frequency: 2.4\n",
      "testing with crossover frequency: 2.6\n",
      "testing with crossover frequency: 2.8\n",
      "testing with crossover frequency: 3.0\n",
      "testing with crossover frequency: 3.2\n",
      "testing with crossover frequency: 3.4\n",
      "testing with crossover frequency: 3.6\n",
      "testing with crossover frequency: 3.8\n"
     ]
    },
    {
     "data": {
      "text/plain": [
       "[<matplotlib.lines.Line2D at 0x112b0a710>]"
      ]
     },
     "execution_count": 16,
     "metadata": {},
     "output_type": "execute_result"
    },
    {
     "data": {
      "image/png": "[encoded data removed]",
      "text/plain": [
       "<Figure size 432x288 with 1 Axes>"
      ]
     },
     "metadata": {},
     "output_type": "display_data"
    }
   ],
   "source": [
    "# Testing with changing mutation rate\n",
    "precision_l, recall_l, f1_l = [],[],[]\n",
    "data_x = dataset_df.drop(['defects'], axis = 1, inplace = False)\n",
    "data_y = dataset_df.defects\n",
    "train_x, test_x, train_y, test_y = train_test_split(data_x, data_y, test_size=0.33, random_state=42)\n",
    "clf = MultinomialNB()\n",
    "clf.fit(train_x,train_y)\n",
    "test_data = pd.concat([test_x,test_y],axis = 1) \n",
    "for i in range(20):\n",
    "    print('testing with crossover frequency:',i/20)\n",
    "    new_data = data_mutator(test_data,i/20,0.75,test_data.shape[0]) #mutating train set\n",
    "    mutated_test_y = new_data['defects'].values\n",
    "    mutated_test_x = new_data.drop(['defects'], axis = 1, inplace = False)\n",
    "    predicted = clf.predict(mutated_test_x)\n",
    "    abcd = ABCD(mutated_test_y, predicted)\n",
    "    confusion_matrix_all_class = [each for each in abcd()]\n",
    "    precision, recall, f1 = calculate_score_weighted(confusion_matrix_all_class,list(mutated_test_y))\n",
    "    precision_l.append(precision)\n",
    "    recall_l.append(recall)\n",
    "    f1_l.append(f1)\n",
    "\n",
    "\n",
    "# Drawing plot for F1 Score\n",
    "plt.plot(f1_l)    "
   ]
  },
  {
   "cell_type": "code",
   "execution_count": 17,
   "metadata": {},
   "outputs": [
    {
     "name": "stdout",
     "output_type": "stream",
     "text": [
      "testing with crossover frequency: 0.0\n",
      "testing with crossover frequency: 0.05\n",
      "testing with crossover frequency: 0.1\n",
      "testing with crossover frequency: 0.15\n",
      "testing with crossover frequency: 0.2\n",
      "testing with crossover frequency: 0.25\n",
      "testing with crossover frequency: 0.3\n",
      "testing with crossover frequency: 0.35\n",
      "testing with crossover frequency: 0.4\n",
      "testing with crossover frequency: 0.45\n",
      "testing with crossover frequency: 0.5\n",
      "testing with crossover frequency: 0.55\n",
      "testing with crossover frequency: 0.6\n",
      "testing with crossover frequency: 0.65\n",
      "testing with crossover frequency: 0.7\n",
      "testing with crossover frequency: 0.75\n",
      "testing with crossover frequency: 0.8\n",
      "testing with crossover frequency: 0.85\n",
      "testing with crossover frequency: 0.9\n",
      "testing with crossover frequency: 0.95\n"
     ]
    },
    {
     "data": {
      "text/plain": [
       "[<matplotlib.lines.Line2D at 0x111a98da0>]"
      ]
     },
     "execution_count": 17,
     "metadata": {},
     "output_type": "execute_result"
    },
    {
     "data": {
      "image/png": "[encoded data removed]",
      "text/plain": [
       "<Figure size 432x288 with 1 Axes>"
      ]
     },
     "metadata": {},
     "output_type": "display_data"
    }
   ],
   "source": [
    "# Testing with changing mutation rate\n",
    "precision_l, recall_l, f1_l = [],[],[]\n",
    "data_x = dataset_df.drop(['defects'], axis = 1, inplace = False)\n",
    "data_y = dataset_df.defects\n",
    "train_x, test_x, train_y, test_y = train_test_split(data_x, data_y, test_size=0.33, random_state=42)\n",
    "clf = MultinomialNB()\n",
    "clf.fit(train_x,train_y)\n",
    "test_data = pd.concat([test_x,test_y],axis = 1) \n",
    "for i in range(20):\n",
    "    print('testing with crossover frequency:',i/20)\n",
    "    new_data = data_mutator(test_data,i/20,0.75,test_data.shape[0]) #mutating test set\n",
    "    mutated_test_y = new_data['defects'].values\n",
    "    mutated_test_x = new_data.drop(['defects'], axis = 1, inplace = False)\n",
    "    predicted = clf.predict(mutated_test_x)\n",
    "    abcd = ABCD(mutated_test_y, predicted)\n",
    "    confusion_matrix_all_class = [each for each in abcd()]\n",
    "    precision, recall, f1 = calculate_score_weighted(confusion_matrix_all_class,list(mutated_test_y))\n",
    "    precision_l.append(precision)\n",
    "    recall_l.append(recall)\n",
    "    f1_l.append(f1)\n",
    "\n",
    "\n",
    "# Drawing plot for F1 Score\n",
    "plt.plot(f1_l) "
   ]
  },
  {
   "cell_type": "code",
   "execution_count": 20,
   "metadata": {},
   "outputs": [
    {
     "name": "stdout",
     "output_type": "stream",
     "text": [
      "testing with crossover frequency: 0.0\n",
      "testing with crossover frequency: 0.2\n",
      "testing with crossover frequency: 0.4\n",
      "testing with crossover frequency: 0.6\n",
      "testing with crossover frequency: 0.8\n"
     ]
    },
    {
     "data": {
      "text/plain": [
       "[<matplotlib.lines.Line2D at 0x1a229d70f0>]"
      ]
     },
     "execution_count": 20,
     "metadata": {},
     "output_type": "execute_result"
    },
    {
     "data": {
      "image/png": "[encoded data removed]",
      "text/plain": [
       "<Figure size 432x288 with 1 Axes>"
      ]
     },
     "metadata": {},
     "output_type": "display_data"
    }
   ],
   "source": [
    "# Training with changing crossover frequency\n",
    "precision_l, recall_l, f1_l = [],[],[]\n",
    "data_x = dataset_df.drop(['defects'], axis = 1, inplace = False)\n",
    "data_y = dataset_df.defects\n",
    "train_x, test_x, train_y, test_y = train_test_split(data_x, data_y, test_size=0.33, random_state=42)\n",
    "clf = MultinomialNB()\n",
    "clf.fit(train_x,train_y)\n",
    "train_data = pd.concat([train_x,train_y],axis = 1) \n",
    "for i in range(5):\n",
    "    print('testing with crossover frequency:',i/5)\n",
    "    new_data = data_mutator(train_data,i/5,0.75,train_data.shape[0]) #mutating train set\n",
    "    mutated_train_y = new_data['defects'].values.tolist()\n",
    "    mutated_train_x = new_data.drop(['defects'], axis = 1, inplace = False)\n",
    "    clf.fit(mutated_train_x,mutated_train_y)\n",
    "    predicted = clf.predict(test_x)\n",
    "    abcd = ABCD(test_y, predicted)\n",
    "    confusion_matrix_all_class = [each for each in abcd()]\n",
    "    precision, recall, f1 = calculate_score_weighted(confusion_matrix_all_class,list(test_y))\n",
    "    precision_l.append(precision)\n",
    "    recall_l.append(recall)\n",
    "    f1_l.append(f1)\n",
    "\n",
    "\n",
    "# Drawing plot for F1 Score\n",
    "plt.plot(f1_l) "
   ]
  },
  {
   "cell_type": "code",
   "execution_count": 10,
   "metadata": {},
   "outputs": [
    {
     "name": "stdout",
     "output_type": "stream",
     "text": [
      "testing with crossover frequency: 0.0\n",
      "testing with crossover frequency: 0.05\n",
      "testing with crossover frequency: 0.1\n",
      "testing with crossover frequency: 0.15\n",
      "testing with crossover frequency: 0.2\n",
      "testing with crossover frequency: 0.25\n",
      "testing with crossover frequency: 0.3\n",
      "testing with crossover frequency: 0.35\n",
      "testing with crossover frequency: 0.4\n",
      "testing with crossover frequency: 0.45\n",
      "testing with crossover frequency: 0.5\n",
      "testing with crossover frequency: 0.55\n",
      "testing with crossover frequency: 0.6\n",
      "testing with crossover frequency: 0.65\n",
      "testing with crossover frequency: 0.7\n",
      "testing with crossover frequency: 0.75\n",
      "testing with crossover frequency: 0.8\n",
      "testing with crossover frequency: 0.85\n",
      "testing with crossover frequency: 0.9\n",
      "testing with crossover frequency: 0.95\n"
     ]
    },
    {
     "data": {
      "text/plain": [
       "[<matplotlib.lines.Line2D at 0x1a1ac830f0>]"
      ]
     },
     "execution_count": 10,
     "metadata": {},
     "output_type": "execute_result"
    },
    {
     "data": {
      "image/png": "[encoded data removed]",
      "text/plain": [
       "<Figure size 432x288 with 1 Axes>"
      ]
     },
     "metadata": {
      "needs_background": "light"
     },
     "output_type": "display_data"
    }
   ],
   "source": [
    "# Testing with changing mutation rate ## Working\n",
    "precision_l, recall_l, f1_l = [],[],[]\n",
    "data_x = dataset_df.drop(['defects'], axis = 1, inplace = False)\n",
    "data_y = dataset_df.defects\n",
    "train_x, test_x, train_y, test_y = train_test_split(data_x, data_y, test_size=0.33, random_state=42)\n",
    "clf = MultinomialNB()\n",
    "clf.fit(train_x,train_y)\n",
    "test_data = pd.concat([test_x,test_y],axis = 1) \n",
    "for i in range(20):\n",
    "    print('testing with crossover frequency:',i/20)\n",
    "    new_data = data_mutator(test_data,i/20,0.75,test_data.shape[0]) #mutating train set\n",
    "    mutated_test_y = new_data['defects'].values\n",
    "    mutated_test_x = new_data.drop(['defects'], axis = 1, inplace = False)\n",
    "    predicted = clf.predict(mutated_test_x)\n",
    "    abcd = ABCD(mutated_test_y, predicted)\n",
    "    confusion_matrix_all_class = [each for each in abcd()]\n",
    "    precision, recall, f1 = calculate_score_weighted(confusion_matrix_all_class,list(mutated_test_y))\n",
    "    precision_l.append(precision)\n",
    "    recall_l.append(recall)\n",
    "    f1_l.append(f1)\n",
    "    test_data = new_data\n",
    "\n",
    "\n",
    "# Drawing plot for F1 Score\n",
    "plt.plot(f1_l)    "
   ]
  },
  {
   "cell_type": "code",
   "execution_count": 28,
   "metadata": {},
   "outputs": [
    {
     "name": "stdout",
     "output_type": "stream",
     "text": [
      "testing with crossover frequency: 0.0\n",
      "testing with crossover frequency: 0.05\n",
      "testing with crossover frequency: 0.1\n",
      "testing with crossover frequency: 0.15\n",
      "testing with crossover frequency: 0.2\n",
      "testing with crossover frequency: 0.25\n",
      "testing with crossover frequency: 0.3\n",
      "testing with crossover frequency: 0.35\n",
      "testing with crossover frequency: 0.4\n",
      "testing with crossover frequency: 0.45\n",
      "testing with crossover frequency: 0.5\n",
      "testing with crossover frequency: 0.55\n",
      "testing with crossover frequency: 0.6\n",
      "testing with crossover frequency: 0.65\n",
      "testing with crossover frequency: 0.7\n",
      "testing with crossover frequency: 0.75\n",
      "testing with crossover frequency: 0.8\n",
      "testing with crossover frequency: 0.85\n",
      "testing with crossover frequency: 0.9\n",
      "testing with crossover frequency: 0.95\n",
      "testing with crossover frequency: 0.0\n",
      "testing with crossover frequency: 0.05\n",
      "testing with crossover frequency: 0.1\n",
      "testing with crossover frequency: 0.15\n",
      "testing with crossover frequency: 0.2\n",
      "testing with crossover frequency: 0.25\n",
      "testing with crossover frequency: 0.3\n",
      "testing with crossover frequency: 0.35\n",
      "testing with crossover frequency: 0.4\n",
      "testing with crossover frequency: 0.45\n",
      "testing with crossover frequency: 0.5\n",
      "testing with crossover frequency: 0.55\n",
      "testing with crossover frequency: 0.6\n",
      "testing with crossover frequency: 0.65\n",
      "testing with crossover frequency: 0.7\n",
      "testing with crossover frequency: 0.75\n",
      "testing with crossover frequency: 0.8\n",
      "testing with crossover frequency: 0.85\n",
      "testing with crossover frequency: 0.9\n",
      "testing with crossover frequency: 0.95\n"
     ]
    },
    {
     "data": {
      "text/plain": [
       "[<matplotlib.lines.Line2D at 0x111a7f390>]"
      ]
     },
     "execution_count": 28,
     "metadata": {},
     "output_type": "execute_result"
    },
    {
     "data": {
      "image/png": "[encoded data removed]",
      "text/plain": [
       "<Figure size 432x288 with 1 Axes>"
      ]
     },
     "metadata": {},
     "output_type": "display_data"
    }
   ],
   "source": [
    "# Training with changing crossover frequency\n",
    "precision_l, recall_l, f1_l = [],[],[]\n",
    "data_x = dataset_df.drop(['defects'], axis = 1, inplace = False)\n",
    "data_y = dataset_df.defects\n",
    "train_x, test_x, train_y, test_y = train_test_split(data_x, data_y, test_size=0.33, random_state=42)\n",
    "clf = MultinomialNB()\n",
    "clf.fit(train_x,train_y)\n",
    "train_data = pd.concat([train_x,train_y],axis = 1) \n",
    "for j in range(2):\n",
    "    for i in range(20):\n",
    "        print('testing with crossover frequency:',i/20)\n",
    "        new_data = data_mutator(train_data,i/20,0.75,train_data.shape[0]) #mutating train set\n",
    "        mutated_train_y = new_data['defects'].values.tolist()\n",
    "        mutated_train_x = new_data.drop(['defects'], axis = 1, inplace = False)\n",
    "        clf.fit(mutated_train_x,mutated_train_y)\n",
    "        predicted = clf.predict(test_x)\n",
    "        abcd = ABCD(test_y, predicted)\n",
    "        confusion_matrix_all_class = [each for each in abcd()]\n",
    "        precision, recall, f1 = calculate_score_weighted(confusion_matrix_all_class,list(test_y))\n",
    "        precision_l.append(precision)\n",
    "        recall_l.append(recall)\n",
    "        f1_l.append(f1)\n",
    "        train_data = new_data\n",
    "\n",
    "# Drawing plot for F1 Score\n",
    "plt.plot(f1_l) "
   ]
  },
  {
   "cell_type": "code",
   "execution_count": null,
   "metadata": {},
   "outputs": [],
   "source": []
  },
  {
   "cell_type": "code",
   "execution_count": null,
   "metadata": {},
   "outputs": [],
   "source": []
  },
  {
   "cell_type": "code",
   "execution_count": null,
   "metadata": {},
   "outputs": [],
   "source": []
  },
  {
   "cell_type": "code",
   "execution_count": null,
   "metadata": {},
   "outputs": [],
   "source": []
  },
  {
   "cell_type": "code",
   "execution_count": null,
   "metadata": {},
   "outputs": [],
   "source": []
  },
  {
   "cell_type": "code",
   "execution_count": null,
   "metadata": {},
   "outputs": [],
   "source": []
  },
  {
   "cell_type": "code",
   "execution_count": null,
   "metadata": {},
   "outputs": [],
   "source": []
  },
  {
   "cell_type": "code",
   "execution_count": null,
   "metadata": {},
   "outputs": [],
   "source": []
  },
  {
   "cell_type": "code",
   "execution_count": null,
   "metadata": {},
   "outputs": [],
   "source": []
  },
  {
   "cell_type": "code",
   "execution_count": null,
   "metadata": {},
   "outputs": [],
   "source": []
  }
 ],
 "metadata": {
  "kernelspec": {
   "display_name": "Python 3",
   "language": "python",
   "name": "python3"
  },
  "language_info": {
   "codemirror_mode": {
    "name": "ipython",
    "version": 3
   },
   "file_extension": ".py",
   "mimetype": "text/x-python",
   "name": "python",
   "nbconvert_exporter": "python",
   "pygments_lexer": "ipython3",
   "version": "3.7.1"
  }
 },
 "nbformat": 4,
 "nbformat_minor": 2
}
