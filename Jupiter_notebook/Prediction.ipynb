{
 "cells": [
  {
   "cell_type": "code",
   "execution_count": 1,
   "metadata": {},
   "outputs": [],
   "source": [
    "import pandas as pd\n",
    "from sklearn.model_selection import train_test_split\n",
    "from sklearn.svm import OneClassSVM\n",
    "from sklearn.ensemble import IsolationForest\n",
    "import collections, numpy\n",
    "from sklearn.cluster import DBSCAN\n",
    "from sklearn import metrics\n",
    "from sklearn import tree\n",
    "from sklearn.svm import SVC\n",
    "import matplotlib.pyplot as plt"
   ]
  },
  {
   "cell_type": "code",
   "execution_count": 2,
   "metadata": {},
   "outputs": [],
   "source": [
    "def load_data(path,target):\n",
    "    df = pd.read_csv(path)\n",
    "    y = df[target]\n",
    "    X = df.drop(labels = target, axis = 1)\n",
    "    X = X.apply(pd.to_numeric)\n",
    "    return df,X,y\n",
    "    \n",
    "def load_mutated_data(path,target):\n",
    "    df = pd.read_csv(path)\n",
    "    y = df[target]\n",
    "    X = df.drop(labels = target, axis = 1)\n",
    "    X = X.apply(pd.to_numeric)\n",
    "    return df,X,y"
   ]
  },
  {
   "cell_type": "code",
   "execution_count": 3,
   "metadata": {},
   "outputs": [],
   "source": [
    "#Get Dataset\n",
    "def get_train(i):\n",
    "    file = 'Data/NSL-KDD/modified/Train/train_' + str(i) + '.csv'\n",
    "    train_df, train_X, train_y = load_data(file,'defects')\n",
    "    y_train = []\n",
    "    for instance in train_y.values:\n",
    "        if instance == 'normal':\n",
    "            y_train.append(1)\n",
    "        else:\n",
    "            y_train.append(-1)\n",
    "    train_df.defects.unique()\n",
    "    return train_X,y_train"
   ]
  },
  {
   "cell_type": "code",
   "execution_count": 4,
   "metadata": {},
   "outputs": [],
   "source": [
    "def get_test(j):\n",
    "    file = 'Data/NSL-KDD/modified/Test/test_' + str(j) + '.csv'\n",
    "    test_df, test_X,test_y = load_mutated_data(file,'defects')\n",
    "    y_test = []\n",
    "    for instance in test_y.values:\n",
    "        if instance == 'normal':\n",
    "            y_test.append(1)\n",
    "        else:\n",
    "            y_test.append(-1)\n",
    "    test_df.defects.unique()\n",
    "    return test_X,y_test"
   ]
  },
  {
   "cell_type": "code",
   "execution_count": null,
   "metadata": {},
   "outputs": [],
   "source": []
  },
  {
   "cell_type": "code",
   "execution_count": 23,
   "metadata": {},
   "outputs": [
    {
     "data": {
      "text/plain": [
       "DecisionTreeClassifier(class_weight=None, criterion='entropy', max_depth=None,\n",
       "            max_features=None, max_leaf_nodes=None,\n",
       "            min_impurity_decrease=0.0, min_impurity_split=None,\n",
       "            min_samples_leaf=1, min_samples_split=2,\n",
       "            min_weight_fraction_leaf=0.0, presort=False, random_state=None,\n",
       "            splitter='best')"
      ]
     },
     "execution_count": 23,
     "metadata": {},
     "output_type": "execute_result"
    }
   ],
   "source": [
    "# decision Tree\n",
    "file = 'Data/NSL-KDD/modified/Train/mixed_train/train_0.csv'\n",
    "train_df, train_X, train_y = load_data(file,'defects')\n",
    "clf_tree = tree.DecisionTreeClassifier(criterion = 'entropy')\n",
    "clf_tree.fit(train_X, train_y)"
   ]
  },
  {
   "cell_type": "code",
   "execution_count": 24,
   "metadata": {},
   "outputs": [
    {
     "name": "stdout",
     "output_type": "stream",
     "text": [
      "              precision    recall  f1-score   support\n",
      "\n",
      "   ftp_write       0.33      0.50      0.40         2\n",
      "     ipsweep       1.00      1.00      1.00       428\n",
      "      normal       0.00      0.00      0.00         0\n",
      "        perl       0.00      0.00      0.00         1\n",
      "         phf       1.00      0.50      0.67         2\n",
      "       smurf       1.00      0.99      1.00       563\n",
      "   snmpguess       1.00      0.99      1.00       174\n",
      "         spy       0.00      0.00      0.00         1\n",
      "        worm       1.00      1.00      1.00         1\n",
      "      xsnoop       0.00      0.00      0.00         2\n",
      "\n",
      "   micro avg       0.99      0.99      0.99      1174\n",
      "   macro avg       0.53      0.50      0.51      1174\n",
      "weighted avg       1.00      0.99      0.99      1174\n",
      "\n"
     ]
    },
    {
     "name": "stderr",
     "output_type": "stream",
     "text": [
      "/anaconda3/lib/python3.7/site-packages/sklearn/metrics/classification.py:1143: UndefinedMetricWarning: Precision and F-score are ill-defined and being set to 0.0 in labels with no predicted samples.\n",
      "  'precision', 'predicted', average, warn_for)\n",
      "/anaconda3/lib/python3.7/site-packages/sklearn/metrics/classification.py:1145: UndefinedMetricWarning: Recall and F-score are ill-defined and being set to 0.0 in labels with no true samples.\n",
      "  'recall', 'true', average, warn_for)\n"
     ]
    }
   ],
   "source": [
    "file = 'Data/NSL-KDD/modified/Test/5_amonaly/train_set1.csv'\n",
    "test_df, test_X,test_y = load_data(file,'defects')\n",
    "predicted = clf_tree.predict(test_X)\n",
    "print(metrics.classification_report(test_y, predicted))"
   ]
  },
  {
   "cell_type": "code",
   "execution_count": null,
   "metadata": {},
   "outputs": [],
   "source": [
    "#### SVM Tree\n",
    "clf_tree = SVC(kernel = 'sigmoid',class_weight = 'balanced')\n",
    "clf_tree.fit(train_X, y_train)"
   ]
  },
  {
   "cell_type": "code",
   "execution_count": null,
   "metadata": {},
   "outputs": [],
   "source": [
    "predicted = clf_tree.predict(test_X)\n",
    "print(metrics.classification_report(y_test, predicted))"
   ]
  },
  {
   "cell_type": "code",
   "execution_count": null,
   "metadata": {},
   "outputs": [],
   "source": [
    "precision = metrics.precision_score(cluster_tree[cluster_id].test_labels, \n",
    "                                                cluster_tree[cluster_id].predicted,average='weighted')\n",
    "recall = metrics.recall_score(cluster_tree[cluster_id].test_labels, \n",
    "                                          cluster_tree[cluster_id].predicted,average='weighted')\n",
    "f1_Score = metrics.f1_score(cluster_tree[cluster_id].test_labels, \n",
    "                                        cluster_tree[cluster_id].predicted,average='weighted')"
   ]
  },
  {
   "cell_type": "code",
   "execution_count": null,
   "metadata": {},
   "outputs": [],
   "source": [
    "original_train = 18143\n",
    "original_test = 17878\n",
    "perf_score = []\n",
    "for i in range(1,39):\n",
    "    train_X, train_y = get_train(i)\n",
    "    clf_tree = tree.DecisionTreeClassifier(criterion = 'entropy')\n",
    "    clf_tree.fit(train_X, train_y)\n",
    "    train_anomaly = train_X.shape[0] - original_train\n",
    "    for j in range(1,36):\n",
    "        test_X, test_y = get_test(j)\n",
    "        test_anomaly = test_X.shape[0] - original_test\n",
    "        predicted = clf_tree.predict(test_X)\n",
    "        precision = metrics.precision_score(test_y,predicted,average='weighted')\n",
    "        recall = metrics.recall_score(test_y,predicted,average='weighted')\n",
    "        f1_Score = metrics.f1_score(test_y,predicted,average='weighted')\n",
    "        perf_score.append([i+1,j+1,train_anomaly,test_anomaly,precision,recall,f1_Score])"
   ]
  },
  {
   "cell_type": "code",
   "execution_count": null,
   "metadata": {},
   "outputs": [],
   "source": [
    "perf_score_df = pd.DataFrame(perf_score, columns = ['Trained_on_number_of_class',\n",
    "                                                    'Tested_on_number _of_class',\n",
    "                                                   'Anomaly_on_Trained_Data',\n",
    "                                                   'Anomaly_on_Tested_Data',\n",
    "                                                   'Precision',\n",
    "                                                   'Recall',\n",
    "                                                   'F1-Score'])"
   ]
  },
  {
   "cell_type": "code",
   "execution_count": null,
   "metadata": {},
   "outputs": [],
   "source": [
    "perf_score_df = perf_score_df.round({'Precision':2,'Recall':2,'F1-Score':2})\n",
    "perf_score_df.to_csv('Data/NSL-KDD/modified/Results/root_node.csv')"
   ]
  },
  {
   "cell_type": "code",
   "execution_count": null,
   "metadata": {},
   "outputs": [],
   "source": [
    "# style\n",
    "plt.style.use('seaborn-darkgrid')\n",
    " \n",
    "# create a color palette\n",
    "palette = plt.get_cmap('Set1')\n",
    "num=0\n",
    "for i in range(perf_score_df.Trained_on_number_of_class.nunique()):\n",
    "    num+=1\n",
    "    sub_df = perf_score_df[perf_score_df['Trained_on_number_of_class'] == i+1]\n",
    "    score = sub_df['F1-Score'].values\n",
    "    plt.plot(score,marker='', color=palette(num), linewidth=1, alpha=0.9, label='Trained On ' + str(i+1) + 'Classes')\n",
    "# Add legend\n",
    "#plt.legend(loc=2, ncol=2)\n",
    " \n",
    "# Add titles\n",
    "plt.title(\"Spaghetti plot\", loc='left', fontsize=12, fontweight=0, color='orange')\n",
    "plt.xlabel(\"Tested Data Number of classes\")\n",
    "plt.ylabel(\"Score\")\n",
    "\n",
    "plt.show()"
   ]
  },
  {
   "cell_type": "code",
   "execution_count": null,
   "metadata": {},
   "outputs": [],
   "source": [
    "ticks = []\n",
    "for i in range(40):\n",
    "    ticks.append(i*35)"
   ]
  },
  {
   "cell_type": "code",
   "execution_count": null,
   "metadata": {},
   "outputs": [],
   "source": [
    "perf_score_df = pd.read_csv('Data/NSL-KDD/modified/Results/root_node.csv')\n",
    "# style\n",
    "plt.style.use('fivethirtyeight')\n",
    " \n",
    "# create a color palette\n",
    "palette = plt.get_cmap('Set1')\n",
    "num = 6\n",
    "fig = plt.figure(num=None, figsize = (230,30))\n",
    "score = perf_score_df['F1-Score'].values\n",
    "ax = fig.add_subplot(1,1,1)\n",
    "ax.plot(score,marker='', color='black', linewidth=4, alpha=0.9, label='Trained On Classes')\n",
    "ax.tick_params(direction='out', length=6, width=2, colors='r',\n",
    "               grid_color='black', grid_alpha=0.5)\n",
    "ax.set_xticks(ticks)\n",
    "plt.show()"
   ]
  },
  {
   "cell_type": "code",
   "execution_count": null,
   "metadata": {},
   "outputs": [],
   "source": [
    "print(plt.style.available)"
   ]
  },
  {
   "cell_type": "code",
   "execution_count": null,
   "metadata": {},
   "outputs": [],
   "source": []
  }
 ],
 "metadata": {
  "kernelspec": {
   "display_name": "Python 3",
   "language": "python",
   "name": "python3"
  },
  "language_info": {
   "codemirror_mode": {
    "name": "ipython",
    "version": 3
   },
   "file_extension": ".py",
   "mimetype": "text/x-python",
   "name": "python",
   "nbconvert_exporter": "python",
   "pygments_lexer": "ipython3",
   "version": "3.7.1"
  }
 },
 "nbformat": 4,
 "nbformat_minor": 2
}
